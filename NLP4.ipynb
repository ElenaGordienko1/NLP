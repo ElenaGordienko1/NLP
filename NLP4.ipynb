{
  "nbformat": 4,
  "nbformat_minor": 0,
  "metadata": {
    "colab": {
      "provenance": [],
      "authorship_tag": "ABX9TyNGHQR0BXTs+DEdnl1VPJ3l",
      "include_colab_link": true
    },
    "kernelspec": {
      "name": "python3",
      "display_name": "Python 3"
    },
    "language_info": {
      "name": "python"
    }
  },
  "cells": [
    {
      "cell_type": "markdown",
      "metadata": {
        "id": "view-in-github",
        "colab_type": "text"
      },
      "source": [
        "<a href=\"https://colab.research.google.com/github/ElenaGordienko1/NLP/blob/main/NLP4.ipynb\" target=\"_parent\"><img src=\"https://colab.research.google.com/assets/colab-badge.svg\" alt=\"Open In Colab\"/></a>"
      ]
    },
    {
      "cell_type": "markdown",
      "source": [
        "#Выпонение лабораторной работы 4"
      ],
      "metadata": {
        "id": "CxlvejzGzOXe"
      }
    },
    {
      "cell_type": "markdown",
      "source": [
        "Импорт библиотек ⭐"
      ],
      "metadata": {
        "id": "1kYk3Px5zS3l"
      }
    },
    {
      "cell_type": "code",
      "source": [
        "import pandas as pd\n",
        "import re\n",
        "from sklearn.feature_extraction.text import TfidfVectorizer\n",
        "from sklearn.cluster import KMeans\n",
        "from sklearn.metrics import adjusted_rand_score\n",
        "from sklearn.model_selection import train_test_split\n",
        "from sklearn.preprocessing import LabelEncoder\n",
        "import matplotlib.pyplot as plt\n",
        "import seaborn as sns"
      ],
      "metadata": {
        "id": "8wrNT9dFzZiI"
      },
      "execution_count": 10,
      "outputs": []
    },
    {
      "cell_type": "markdown",
      "source": [
        "### Загрузка и предобработка"
      ],
      "metadata": {
        "id": "NFeVbdQvznk3"
      }
    },
    {
      "cell_type": "code",
      "source": [
        "russian_stopwords = set(\"\"\"\n",
        "и в во не что он на я с со как а то все она так его но да ты к у же вы за бы по только ее мне было вот от меня еще нет о из ему теперь когда даже ну вдруг ли если уже или ни быть был него до вас нибудь опять уж вам ведь там потом себя ничего ей может они тут где есть надо ней для мы тебя их чем была сам чтоб без будто чего раз тоже себе под будет ж тогда кто этот того потому этого какие совсем ними здесь этом один почти мой тем чтобы нее как раз уж еще бы нее там них\n",
        "\"\"\".split())\n",
        "\n",
        "df = pd.read_csv(\"/content/final_review_dataset_extended.csv\")\n",
        "df = df[['review', 'rating_value']].dropna()\n",
        "df = df[df['review'].str.strip().astype(bool)]\n",
        "\n",
        "def preprocess_text(text):\n",
        "    text = text.lower()\n",
        "    text = re.sub(r\"[^а-яёa-z\\s]\", \" \", text, flags=re.IGNORECASE)\n",
        "    text = re.sub(r\"\\s+\", \" \", text).strip()\n",
        "    words = text.split()\n",
        "    words = [w for w in words if w not in russian_stopwords and len(w) > 2]\n",
        "    return \" \".join(words)\n",
        "\n",
        "df['clean_text'] = df['review'].apply(preprocess_text)\n",
        "df.head()\n"
      ],
      "metadata": {
        "colab": {
          "base_uri": "https://localhost:8080/",
          "height": 206
        },
        "id": "yeAZFrGhzvfP",
        "outputId": "226db61a-20f4-40ac-e45e-ecc35aa79dea"
      },
      "execution_count": 11,
      "outputs": [
        {
          "output_type": "execute_result",
          "data": {
            "text/plain": [
              "                                              review  rating_value  \\\n",
              "0  Добрый день! Я являюсь ИП и стоял перед выборо...             5   \n",
              "1  Здравствуйте! Достаточно давно являюсь клиенто...             5   \n",
              "2  Здравствуйте,являюсь клиентом банка с ноября 2...             5   \n",
              "3  14 января 2023 года была попытка перевода дене...             1   \n",
              "4  У меня сложилось устойчивое впечатление, что в...             1   \n",
              "\n",
              "                                          clean_text  \n",
              "0  добрый день являюсь стоял перед выбором банка ...  \n",
              "1  здравствуйте достаточно давно являюсь клиентом...  \n",
              "2  здравствуйте являюсь клиентом банка ноября год...  \n",
              "3  января года попытка перевода денег размере тыс...  \n",
              "4  сложилось устойчивое впечатление банке работаю...  "
            ],
            "text/html": [
              "\n",
              "  <div id=\"df-bc17cf01-ab35-40ce-8d50-0340fabeba0c\" class=\"colab-df-container\">\n",
              "    <div>\n",
              "<style scoped>\n",
              "    .dataframe tbody tr th:only-of-type {\n",
              "        vertical-align: middle;\n",
              "    }\n",
              "\n",
              "    .dataframe tbody tr th {\n",
              "        vertical-align: top;\n",
              "    }\n",
              "\n",
              "    .dataframe thead th {\n",
              "        text-align: right;\n",
              "    }\n",
              "</style>\n",
              "<table border=\"1\" class=\"dataframe\">\n",
              "  <thead>\n",
              "    <tr style=\"text-align: right;\">\n",
              "      <th></th>\n",
              "      <th>review</th>\n",
              "      <th>rating_value</th>\n",
              "      <th>clean_text</th>\n",
              "    </tr>\n",
              "  </thead>\n",
              "  <tbody>\n",
              "    <tr>\n",
              "      <th>0</th>\n",
              "      <td>Добрый день! Я являюсь ИП и стоял перед выборо...</td>\n",
              "      <td>5</td>\n",
              "      <td>добрый день являюсь стоял перед выбором банка ...</td>\n",
              "    </tr>\n",
              "    <tr>\n",
              "      <th>1</th>\n",
              "      <td>Здравствуйте! Достаточно давно являюсь клиенто...</td>\n",
              "      <td>5</td>\n",
              "      <td>здравствуйте достаточно давно являюсь клиентом...</td>\n",
              "    </tr>\n",
              "    <tr>\n",
              "      <th>2</th>\n",
              "      <td>Здравствуйте,являюсь клиентом банка с ноября 2...</td>\n",
              "      <td>5</td>\n",
              "      <td>здравствуйте являюсь клиентом банка ноября год...</td>\n",
              "    </tr>\n",
              "    <tr>\n",
              "      <th>3</th>\n",
              "      <td>14 января 2023 года была попытка перевода дене...</td>\n",
              "      <td>1</td>\n",
              "      <td>января года попытка перевода денег размере тыс...</td>\n",
              "    </tr>\n",
              "    <tr>\n",
              "      <th>4</th>\n",
              "      <td>У меня сложилось устойчивое впечатление, что в...</td>\n",
              "      <td>1</td>\n",
              "      <td>сложилось устойчивое впечатление банке работаю...</td>\n",
              "    </tr>\n",
              "  </tbody>\n",
              "</table>\n",
              "</div>\n",
              "    <div class=\"colab-df-buttons\">\n",
              "\n",
              "  <div class=\"colab-df-container\">\n",
              "    <button class=\"colab-df-convert\" onclick=\"convertToInteractive('df-bc17cf01-ab35-40ce-8d50-0340fabeba0c')\"\n",
              "            title=\"Convert this dataframe to an interactive table.\"\n",
              "            style=\"display:none;\">\n",
              "\n",
              "  <svg xmlns=\"http://www.w3.org/2000/svg\" height=\"24px\" viewBox=\"0 -960 960 960\">\n",
              "    <path d=\"M120-120v-720h720v720H120Zm60-500h600v-160H180v160Zm220 220h160v-160H400v160Zm0 220h160v-160H400v160ZM180-400h160v-160H180v160Zm440 0h160v-160H620v160ZM180-180h160v-160H180v160Zm440 0h160v-160H620v160Z\"/>\n",
              "  </svg>\n",
              "    </button>\n",
              "\n",
              "  <style>\n",
              "    .colab-df-container {\n",
              "      display:flex;\n",
              "      gap: 12px;\n",
              "    }\n",
              "\n",
              "    .colab-df-convert {\n",
              "      background-color: #E8F0FE;\n",
              "      border: none;\n",
              "      border-radius: 50%;\n",
              "      cursor: pointer;\n",
              "      display: none;\n",
              "      fill: #1967D2;\n",
              "      height: 32px;\n",
              "      padding: 0 0 0 0;\n",
              "      width: 32px;\n",
              "    }\n",
              "\n",
              "    .colab-df-convert:hover {\n",
              "      background-color: #E2EBFA;\n",
              "      box-shadow: 0px 1px 2px rgba(60, 64, 67, 0.3), 0px 1px 3px 1px rgba(60, 64, 67, 0.15);\n",
              "      fill: #174EA6;\n",
              "    }\n",
              "\n",
              "    .colab-df-buttons div {\n",
              "      margin-bottom: 4px;\n",
              "    }\n",
              "\n",
              "    [theme=dark] .colab-df-convert {\n",
              "      background-color: #3B4455;\n",
              "      fill: #D2E3FC;\n",
              "    }\n",
              "\n",
              "    [theme=dark] .colab-df-convert:hover {\n",
              "      background-color: #434B5C;\n",
              "      box-shadow: 0px 1px 3px 1px rgba(0, 0, 0, 0.15);\n",
              "      filter: drop-shadow(0px 1px 2px rgba(0, 0, 0, 0.3));\n",
              "      fill: #FFFFFF;\n",
              "    }\n",
              "  </style>\n",
              "\n",
              "    <script>\n",
              "      const buttonEl =\n",
              "        document.querySelector('#df-bc17cf01-ab35-40ce-8d50-0340fabeba0c button.colab-df-convert');\n",
              "      buttonEl.style.display =\n",
              "        google.colab.kernel.accessAllowed ? 'block' : 'none';\n",
              "\n",
              "      async function convertToInteractive(key) {\n",
              "        const element = document.querySelector('#df-bc17cf01-ab35-40ce-8d50-0340fabeba0c');\n",
              "        const dataTable =\n",
              "          await google.colab.kernel.invokeFunction('convertToInteractive',\n",
              "                                                    [key], {});\n",
              "        if (!dataTable) return;\n",
              "\n",
              "        const docLinkHtml = 'Like what you see? Visit the ' +\n",
              "          '<a target=\"_blank\" href=https://colab.research.google.com/notebooks/data_table.ipynb>data table notebook</a>'\n",
              "          + ' to learn more about interactive tables.';\n",
              "        element.innerHTML = '';\n",
              "        dataTable['output_type'] = 'display_data';\n",
              "        await google.colab.output.renderOutput(dataTable, element);\n",
              "        const docLink = document.createElement('div');\n",
              "        docLink.innerHTML = docLinkHtml;\n",
              "        element.appendChild(docLink);\n",
              "      }\n",
              "    </script>\n",
              "  </div>\n",
              "\n",
              "\n",
              "    <div id=\"df-94b19113-1174-4cd3-92f0-1e6981b556eb\">\n",
              "      <button class=\"colab-df-quickchart\" onclick=\"quickchart('df-94b19113-1174-4cd3-92f0-1e6981b556eb')\"\n",
              "                title=\"Suggest charts\"\n",
              "                style=\"display:none;\">\n",
              "\n",
              "<svg xmlns=\"http://www.w3.org/2000/svg\" height=\"24px\"viewBox=\"0 0 24 24\"\n",
              "     width=\"24px\">\n",
              "    <g>\n",
              "        <path d=\"M19 3H5c-1.1 0-2 .9-2 2v14c0 1.1.9 2 2 2h14c1.1 0 2-.9 2-2V5c0-1.1-.9-2-2-2zM9 17H7v-7h2v7zm4 0h-2V7h2v10zm4 0h-2v-4h2v4z\"/>\n",
              "    </g>\n",
              "</svg>\n",
              "      </button>\n",
              "\n",
              "<style>\n",
              "  .colab-df-quickchart {\n",
              "      --bg-color: #E8F0FE;\n",
              "      --fill-color: #1967D2;\n",
              "      --hover-bg-color: #E2EBFA;\n",
              "      --hover-fill-color: #174EA6;\n",
              "      --disabled-fill-color: #AAA;\n",
              "      --disabled-bg-color: #DDD;\n",
              "  }\n",
              "\n",
              "  [theme=dark] .colab-df-quickchart {\n",
              "      --bg-color: #3B4455;\n",
              "      --fill-color: #D2E3FC;\n",
              "      --hover-bg-color: #434B5C;\n",
              "      --hover-fill-color: #FFFFFF;\n",
              "      --disabled-bg-color: #3B4455;\n",
              "      --disabled-fill-color: #666;\n",
              "  }\n",
              "\n",
              "  .colab-df-quickchart {\n",
              "    background-color: var(--bg-color);\n",
              "    border: none;\n",
              "    border-radius: 50%;\n",
              "    cursor: pointer;\n",
              "    display: none;\n",
              "    fill: var(--fill-color);\n",
              "    height: 32px;\n",
              "    padding: 0;\n",
              "    width: 32px;\n",
              "  }\n",
              "\n",
              "  .colab-df-quickchart:hover {\n",
              "    background-color: var(--hover-bg-color);\n",
              "    box-shadow: 0 1px 2px rgba(60, 64, 67, 0.3), 0 1px 3px 1px rgba(60, 64, 67, 0.15);\n",
              "    fill: var(--button-hover-fill-color);\n",
              "  }\n",
              "\n",
              "  .colab-df-quickchart-complete:disabled,\n",
              "  .colab-df-quickchart-complete:disabled:hover {\n",
              "    background-color: var(--disabled-bg-color);\n",
              "    fill: var(--disabled-fill-color);\n",
              "    box-shadow: none;\n",
              "  }\n",
              "\n",
              "  .colab-df-spinner {\n",
              "    border: 2px solid var(--fill-color);\n",
              "    border-color: transparent;\n",
              "    border-bottom-color: var(--fill-color);\n",
              "    animation:\n",
              "      spin 1s steps(1) infinite;\n",
              "  }\n",
              "\n",
              "  @keyframes spin {\n",
              "    0% {\n",
              "      border-color: transparent;\n",
              "      border-bottom-color: var(--fill-color);\n",
              "      border-left-color: var(--fill-color);\n",
              "    }\n",
              "    20% {\n",
              "      border-color: transparent;\n",
              "      border-left-color: var(--fill-color);\n",
              "      border-top-color: var(--fill-color);\n",
              "    }\n",
              "    30% {\n",
              "      border-color: transparent;\n",
              "      border-left-color: var(--fill-color);\n",
              "      border-top-color: var(--fill-color);\n",
              "      border-right-color: var(--fill-color);\n",
              "    }\n",
              "    40% {\n",
              "      border-color: transparent;\n",
              "      border-right-color: var(--fill-color);\n",
              "      border-top-color: var(--fill-color);\n",
              "    }\n",
              "    60% {\n",
              "      border-color: transparent;\n",
              "      border-right-color: var(--fill-color);\n",
              "    }\n",
              "    80% {\n",
              "      border-color: transparent;\n",
              "      border-right-color: var(--fill-color);\n",
              "      border-bottom-color: var(--fill-color);\n",
              "    }\n",
              "    90% {\n",
              "      border-color: transparent;\n",
              "      border-bottom-color: var(--fill-color);\n",
              "    }\n",
              "  }\n",
              "</style>\n",
              "\n",
              "      <script>\n",
              "        async function quickchart(key) {\n",
              "          const quickchartButtonEl =\n",
              "            document.querySelector('#' + key + ' button');\n",
              "          quickchartButtonEl.disabled = true;  // To prevent multiple clicks.\n",
              "          quickchartButtonEl.classList.add('colab-df-spinner');\n",
              "          try {\n",
              "            const charts = await google.colab.kernel.invokeFunction(\n",
              "                'suggestCharts', [key], {});\n",
              "          } catch (error) {\n",
              "            console.error('Error during call to suggestCharts:', error);\n",
              "          }\n",
              "          quickchartButtonEl.classList.remove('colab-df-spinner');\n",
              "          quickchartButtonEl.classList.add('colab-df-quickchart-complete');\n",
              "        }\n",
              "        (() => {\n",
              "          let quickchartButtonEl =\n",
              "            document.querySelector('#df-94b19113-1174-4cd3-92f0-1e6981b556eb button');\n",
              "          quickchartButtonEl.style.display =\n",
              "            google.colab.kernel.accessAllowed ? 'block' : 'none';\n",
              "        })();\n",
              "      </script>\n",
              "    </div>\n",
              "    </div>\n",
              "  </div>\n"
            ],
            "application/vnd.google.colaboratory.intrinsic+json": {
              "type": "dataframe",
              "variable_name": "df",
              "summary": "{\n  \"name\": \"df\",\n  \"rows\": 12392,\n  \"fields\": [\n    {\n      \"column\": \"review\",\n      \"properties\": {\n        \"dtype\": \"string\",\n        \"num_unique_values\": 12392,\n        \"samples\": [\n          \"\\u041f\\u0440\\u043e\\u0441\\u0442\\u043e \\u043e\\u0442\\u0432\\u0440\\u0430\\u0442\\u0438\\u0442\\u0435\\u043b\\u044c\\u043d\\u044b\\u0439 \\u0431\\u0430\\u043d\\u043a, \\u0430 \\u0442\\u043e\\u0447\\u043d\\u0435\\u0435 \\u043c\\u0435\\u0442\\u043e\\u0434\\u044b \\u0440\\u0430\\u0431\\u043e\\u0442\\u044b \\u0441 \\u043a\\u043b\\u0438\\u0435\\u043d\\u0442\\u0430\\u043c\\u0438 - \\u043a\\u0430\\u043a \\u0438\\u0437 \\u043d\\u0443\\u043b\\u0435\\u0432\\u044b\\u0445. \\u041c\\u043d\\u0435 \\u0443\\u0436\\u0435 \\u0434\\u043e\\u0441\\u0442\\u0430\\u0442\\u043e\\u0447\\u043d\\u043e \\u0434\\u043e\\u043b\\u0433\\u043e \\u043a\\u0430\\u0436\\u0434\\u044b\\u0439 \\u0434\\u0435\\u043d\\u044c, \\u0441 \\u043f\\u0435\\u0440\\u0438\\u043e\\u0434\\u0438\\u0447\\u043d\\u043e\\u0441\\u0442\\u044c\\u044e \\u0440\\u0430\\u0437 \\u0432 \\u0447\\u0430\\u0441, \\u043f\\u043e\\u0441\\u0442\\u0443\\u043f\\u0430\\u044e\\u0442 \\u0437\\u0432\\u043e\\u043d\\u043a\\u0438 \\u0441 \\u0440\\u0430\\u0437\\u043d\\u044b\\u0445 \\u043c\\u043e\\u0431\\u0438\\u043b\\u044c\\u043d\\u044b\\u0445 \\u043d\\u043e\\u043c\\u0435\\u0440\\u043e\\u0432, \\u0441 \\u0432\\u043e\\u043f\\u0440\\u043e\\u0441\\u043e\\u043c \\u0437\\u043d\\u0430\\u044e \\u043b\\u0438 \\u044f \\u043e\\u043f\\u0440\\u0435\\u0434\\u0435\\u043b\\u0435\\u043d\\u043d\\u0443\\u044e \\u0434\\u0430\\u043c\\u0443. \\u042f \\u0442\\u0430\\u043a \\u043f\\u043e\\u043d\\u0438\\u043c\\u0430\\u044e, \\u0447\\u0442\\u043e \\u043e\\u043d\\u0430 \\u0432\\u0437\\u044f\\u043b\\u0430 \\u043a\\u0440\\u0435\\u0434\\u0438\\u0442, \\u043a\\u043e\\u0442\\u043e\\u0440\\u044b\\u0439 \\u043d\\u0435 \\u043f\\u043b\\u0430\\u0442\\u0438\\u0442, \\u0438 \\u0443\\u043a\\u0430\\u0437\\u0430\\u043b\\u0430 \\u0432 \\u043a\\u0430\\u0447\\u0435\\u0441\\u0442\\u0432\\u0435 \\u043a\\u043e\\u043d\\u0442\\u0430\\u043a\\u0442\\u043d\\u043e\\u0433\\u043e \\u043d\\u043e\\u043c\\u0435\\u0440\\u0430 \\u043c\\u043e\\u0439. \\u0413\\u043e\\u0432\\u043e\\u0440\\u044e \\u043e\\u043f\\u0435\\u0440\\u0430\\u0442\\u043e\\u0440\\u0443 \\u043a\\u0430\\u0436\\u0434\\u044b\\u0439 \\u0440\\u0430\\u0437, \\u0447\\u0442\\u043e \\u044f \\u043d\\u0435 \\u0437\\u043d\\u0430\\u044e \\u044d\\u0442\\u0443 \\u0436\\u0435\\u043d\\u0449\\u0438\\u043d\\u0443, \\u043d\\u0430 \\u0441\\u0443\\u0442\\u043a\\u0438 \\u0437\\u0430\\u0442\\u0438\\u0445\\u0430\\u044e\\u0442 \\u043f\\u043e\\u0442\\u043e\\u043c \\u043e\\u043f\\u044f\\u0442\\u044c \\u043d\\u0430\\u0437\\u0432\\u0430\\u043d\\u0438\\u0432\\u0430\\u044e\\u0442. \\u042f \\u0440\\u0430\\u0431\\u043e\\u0442\\u0430\\u044e \\u043d\\u0430 \\u0440\\u0443\\u043a\\u043e\\u0432\\u043e\\u0434\\u044f\\u0449\\u0435\\u0439 \\u0434\\u043e\\u043b\\u0436\\u043d\\u043e\\u0441\\u0442\\u0438, \\u043c\\u043d\\u0435 \\u0437\\u0432\\u043e\\u043d\\u044f\\u0442 \\u043c\\u043d\\u043e\\u0433\\u043e \\u043b\\u044e\\u0434\\u0435\\u0439 \\u043f\\u043e \\u0440\\u0430\\u0431\\u043e\\u0442\\u0435, \\u0438 \\u044d\\u0442\\u043e \\u0431\\u0435\\u0437\\u043e\\u0431\\u0440\\u0430\\u0437\\u0438\\u0435 \\u043c\\u043d\\u0435 \\u043e\\u0442\\u043a\\u0440\\u043e\\u0432\\u0435\\u043d\\u043d\\u043e \\u043c\\u0435\\u0448\\u0430\\u0435\\u0442! \\u0415\\u0441\\u043b\\u0438 \\u044d\\u0442\\u043e \\u043d\\u0435 \\u043f\\u0440\\u0435\\u043a\\u0440\\u0430\\u0442\\u0438\\u0442\\u0441\\u044f, \\u044f \\u0441\\u043e\\u0441\\u0442\\u0430\\u0432\\u043b\\u044e \\u0436\\u0430\\u043b\\u043e\\u0431\\u0443 \\u0432 \\u0420\\u043e\\u0441\\u043f\\u043e\\u0442\\u0440\\u0435\\u0431\\u043d\\u0430\\u0434\\u0437\\u043e\\u0440 \\u0438 \\u0435\\u0441\\u043b\\u0438 \\u043f\\u043e\\u043d\\u0430\\u0434\\u043e\\u0431\\u0438\\u0442\\u0441\\u044f \\u0432 \\u043f\\u0440\\u043e\\u043a\\u0443\\u0440\\u0430\\u0442\\u0443\\u0440\\u0443\",\n          \"\\u0411\\u0430\\u043d\\u043a \\u0412\\u0422\\u0411 \\u044d\\u043a\\u043e\\u043d\\u043e\\u043c\\u0438\\u0442 \\u043d\\u0430 \\u0431\\u0430\\u043d\\u043a\\u043e\\u043c\\u0430\\u0442\\u0430\\u0445, \\u0441\\u043e\\u0432\\u0435\\u0440\\u0448\\u0435\\u043d\\u043d\\u043e \\u043d\\u0435 \\u0446\\u0435\\u043d\\u0438\\u0442 \\u0432\\u0440\\u0435\\u043c\\u044f \\u0441\\u0432\\u043e\\u0438\\u0445 \\u043a\\u043b\\u0438\\u0435\\u043d\\u0442\\u043e\\u0432, \\u043f\\u0440\\u043e\\u0434\\u0443\\u043a\\u0442\\u044b \\u0431\\u0430\\u043d\\u043a\\u0430 \\u0432\\u0435\\u0441\\u044c\\u043c\\u0430 \\u0441\\u043e\\u043c\\u043d\\u0438\\u0442\\u0435\\u043b\\u044c\\u043d\\u044b. \\u041d\\u043e \\u0437\\u0434\\u0435\\u0441\\u044c \\u044f \\u0431\\u0443\\u0434\\u0443 \\u0440\\u0430\\u0441\\u0441\\u043a\\u0430\\u0437\\u044b\\u0432\\u0430\\u0442\\u044c \\u043e \\u0431\\u0430\\u043d\\u043a\\u043e\\u043c\\u0430\\u0442\\u0430\\u0445 \\u0438 \\u043f\\u043e\\u0434\\u0434\\u0435\\u0440\\u0436\\u043a\\u0435, \\u0434\\u0430 \\u0438 \\u0432 \\u0446\\u0435\\u043b\\u043e\\u043c \\u043e\\u0431 \\u043e\\u0442\\u043d\\u043e\\u0448\\u0435\\u043d\\u0438\\u0438, \\u043a\\u043e\\u0442\\u043e\\u0440\\u043e\\u0435 \\u043f\\u043e\\u043f\\u0430\\u0445\\u0438\\u0432\\u0430\\u0435\\u0442 \\u043d\\u0435 \\u0443\\u0432\\u0430\\u0436\\u0435\\u043d\\u0438\\u0435\\u043c \\u0441\\u043e \\u0441\\u0442\\u043e\\u0440\\u043e\\u043d\\u044b \\u0431\\u0430\\u043d\\u043a\\u0430. \\u0422\\u0430\\u043a \\u0432\\u043e\\u0442. \\u0412 \\u043e\\u0442\\u0434\\u0435\\u043b\\u0435\\u043d\\u0438\\u0438\\u0438 \\u0431\\u0430\\u043d\\u043a\\u0430 \\u0432 \\u0433. \\u041d\\u0438\\u0436\\u043d\\u0435\\u0432\\u0430\\u0440\\u0442\\u043e\\u0432\\u0441\\u043a \\u0443\\u043b. \\u041c\\u0438\\u0440\\u0430 20 \\u0441\\u0442\\u043e\\u044f\\u0442 4 \\u0431\\u0430\\u043d\\u043a\\u043e\\u043c\\u0430\\u0442\\u0430, 2 \\u0438\\u0437 \\u043a\\u043e\\u0442\\u043e\\u0440\\u044b\\u0445 \\u0440\\u0430\\u0431\\u043e\\u0442\\u0430\\u044e\\u0442 \\u043a\\u0440\\u0443\\u0433\\u043b\\u043e\\u0441\\u0443\\u0442\\u043e\\u0447\\u043d\\u043e. \\u0422\\u0435 \\u0441\\u0430\\u043c\\u044b\\u0435 2 \\u0431\\u0430\\u043d\\u043a\\u043e\\u043c\\u0430\\u0442\\u0430 \\u0441\\u0442\\u043e\\u044f\\u043b\\u0438 \\u0432 \\u043e\\u0444\\u0438\\u0441\\u0435 \\u0431\\u0430\\u043d\\u043a\\u0430 \\u0435\\u0449\\u0435 \\u0434\\u043e 2010 \\u0433\\u043e\\u0434\\u0430, \\u043a\\u043e\\u0433\\u0434\\u0430 \\u043e\\u0442\\u0434\\u0435\\u043b\\u0435\\u043d\\u0438\\u0435 \\u043f\\u0440\\u0438\\u043d\\u0430\\u0434\\u043b\\u0435\\u0436\\u0430\\u043b\\u043e \\u0417\\u0421\\u041a\\u0411. \\u042f \\u0445\\u043e\\u0434\\u0438\\u043b \\u0432 \\u043e\\u0442\\u0434\\u0435\\u043b\\u0435\\u043d\\u0438\\u0435 \\u0417\\u0421\\u041a\\u0411 \\u0431\\u0443\\u0434\\u0443\\u0447\\u0438 \\u0441\\u0442\\u0443\\u0434\\u0435\\u043d\\u0442\\u043e\\u043c \\u0441\\u043d\\u0438\\u043c\\u0430\\u0442\\u044c \\u0441\\u0442\\u0438\\u043f\\u0435\\u043d\\u0434\\u0438\\u044e. \\u041f\\u043e\\u043d\\u044f\\u0442\\u043d\\u043e \\u0447\\u0442\\u043e \\u0442\\u0435\\u0445\\u043d\\u0438\\u043a\\u0430 \\u0434\\u0430\\u0432\\u043d\\u043e \\u0443\\u0441\\u0442\\u0430\\u0440\\u0435\\u043b\\u0430, \\u0440\\u0430\\u0431\\u043e\\u0442\\u0430\\u0435\\u0442 \\u043c\\u0435\\u0434\\u043b\\u0435\\u043d\\u043d\\u043e, \\u043d\\u0435\\u043a\\u043e\\u0440\\u0440\\u0435\\u043a\\u0442\\u043d\\u043e \\u0438 \\u043f\\u043e\\u0441\\u0442\\u043e\\u044f\\u043d\\u043d\\u043e \\u0441\\u0431\\u043e\\u0438\\u0442. \\u0421\\u0435\\u0433\\u043e\\u0434\\u043d\\u044f \\u043c\\u043d\\u0435 \\u043d\\u0435\\u043e\\u0431\\u0445\\u043e\\u0434\\u0438\\u043c\\u043e \\u0431\\u044b\\u043b\\u043e \\u043f\\u043e\\u043f\\u043e\\u043b\\u043d\\u0438\\u0442\\u044c \\u043a\\u0430\\u0440\\u0442\\u0443 \\u0431\\u0430\\u043d\\u043a\\u0430 \\u0420\\u0435\\u043d\\u0435\\u0441\\u0441\\u0430\\u043d\\u0441 \\u041a\\u0440\\u0435\\u0434\\u0438\\u0442 (\\u043e \\u043d\\u0438\\u0445 \\u044f \\u043e\\u0442\\u0434\\u0435\\u043b\\u044c\\u043d\\u043e \\u0440\\u0430\\u0441\\u0441\\u043a\\u0430\\u0436\\u0443 \\u043f\\u043e\\u0442\\u043e\\u043c, \\u0435\\u0441\\u0442\\u044c \\u0432\\u043e\\u043f\\u0440\\u043e\\u0441\\u0438\\u043a\\u0438 \\u043a \\u044d\\u0442\\u0438\\u043c \\u0440\\u0435\\u0431\\u044f\\u0442\\u0430\\u043c). \\u0422.\\u043a \\u0412\\u0422\\u0411 \\u044f\\u0432\\u043b\\u044f\\u0435\\u0442\\u0441\\u044f (\\u043f\\u043e \\u0437\\u0430\\u044f\\u0432\\u043b\\u0435\\u043d\\u0438\\u044e \\u0440\\u0435\\u043d\\u0435\\u0441\\u0441\\u0430\\u043d\\u0441) \\u043f\\u0430\\u0440\\u0442\\u043d\\u0435\\u0440\\u043e\\u043c \\u0440\\u0435\\u043d\\u0435\\u0441\\u0441\\u0430\\u043d\\u0441 \\u0438 \\u043f\\u043e\\u043f\\u043e\\u043b\\u043d\\u0435\\u043d\\u0438\\u0435 \\u0438\\u0445 \\u043a\\u0430\\u0440\\u0442\\u044b \\u043f\\u0440\\u043e\\u0438\\u0437\\u0432\\u043e\\u0434\\u0438\\u0442\\u0441\\u044f \\u0431\\u0435\\u0437 \\u043a\\u043e\\u043c\\u0438\\u0441\\u0438\\u0438, \\u044f \\u0440\\u0435\\u0448\\u0438\\u043b \\u0441\\u0434\\u0435\\u043b\\u0430\\u0442\\u044c \\u043f\\u043e\\u043f\\u043e\\u043b\\u043d\\u0435\\u043d\\u0438\\u0435 \\u0447\\u0435\\u0440\\u0435\\u0437 \\u0431\\u0430\\u043d\\u043a\\u043e\\u043c\\u0430\\u0442 \\u044d\\u0442\\u043e\\u0433\\u043e \\u0431\\u0430\\u043d\\u043a\\u0430. \\u0414\\u0430\\u043b\\u044c\\u0448\\u0435 \\u0432\\u0441\\u0435 \\u043f\\u0440\\u043e\\u0438\\u0437\\u043e\\u0448\\u043b\\u043e \\u0431\\u044b\\u0441\\u0442\\u0440\\u043e. \\u0411\\u0430\\u043d\\u043a\\u043e\\u043c\\u0430\\u0442 \\u0437\\u0430\\u0431\\u0440\\u0430\\u043b 58600 \\u043e\\u0442\\u0435\\u0447\\u0435\\u0441\\u0442\\u0432\\u0435\\u043d\\u043d\\u044b\\u0445 \\u0434\\u0435\\u043d\\u0435\\u0433, \\u043d\\u0430\\u043f\\u0438\\u0441\\u0430\\u043b \\u0447\\u0442\\u043e \\u0443 \\u043d\\u0435\\u0433\\u043e \\u043f\\u0440\\u043e\\u0438\\u0437\\u043e\\u0448\\u043b\\u0430 \\u043a\\u0430\\u043a\\u0430\\u044f-\\u0442\\u043e \\u043e\\u0448\\u0438\\u0431\\u043a\\u0430 \\u0438 \\u0434\\u0435\\u043d\\u044c\\u0433\\u0438 \\u043e\\u043d \\u043e\\u0441\\u0442\\u0430\\u0432\\u0438\\u0442 \\u0441\\u0435\\u0431\\u0435 (\\u043c\\u043e\\u0438 \\u0434\\u0435\\u043d\\u044c\\u0433\\u0438, \\u0435\\u0441\\u043b\\u0438 \\u0447\\u0442\\u043e, \\u043f\\u0440\\u044f\\u043c\\u043e \\u043f\\u0435\\u0440\\u0435\\u0434 \\u043d\\u043e\\u0432\\u043e\\u0433\\u043e\\u0434\\u043d\\u0438\\u043c\\u0438 \\u043f\\u0440\\u0430\\u0437\\u0434\\u043d\\u0438\\u043a\\u0430\\u043c\\u0438), \\u0430 \\u043c\\u043d\\u0435 \\u043d\\u0435\\u043e\\u0431\\u0445\\u043e\\u0434\\u0438\\u043c\\u043e \\u043e\\u0431\\u0440\\u0430\\u0442\\u0438\\u0442\\u044c\\u0441\\u044f \\u0432 \\u043f\\u043e\\u0434\\u0434\\u0435\\u0440\\u0436\\u043a\\u0443. \\u041c\\u043e\\u0436\\u043d\\u043e \\u043b\\u0438 \\u0441\\u0447\\u0438\\u0442\\u0430\\u0442\\u044c \\u044d\\u0442\\u043e\\u0442 \\u0438\\u043d\\u0446\\u0435\\u0434\\u0435\\u043d\\u0442 \\u043d\\u0435\\u0437\\u0430\\u043a\\u043e\\u043d\\u044b\\u043c \\u0443\\u0434\\u0435\\u0440\\u0436\\u0430\\u043d\\u0438\\u0435\\u043c \\u0434\\u0435\\u043d\\u0435\\u0433 \\u0438 \\u043f\\u0438\\u0441\\u0430\\u0442\\u044c \\u043b\\u0438 \\u0437\\u0430\\u044f\\u0432\\u043b\\u0435\\u043d\\u0438\\u0435 \\u0432 \\u043f\\u043e\\u043b\\u0438\\u0446\\u0438\\u044e? \\u041d\\u0430 \\u044d\\u0442\\u043e\\u0442 \\u0432\\u043e\\u043f\\u0440\\u043e\\u0441 \\u044f \\u0431\\u044b \\u0445\\u043e\\u0442\\u0435\\u043b \\u043f\\u043e\\u043b\\u0443\\u0447\\u0438\\u0442\\u044c \\u043e\\u0442\\u0432\\u0435\\u0442 \\u043e\\u0442 \\u0431\\u0430\\u043d\\u043a\\u0430. \\u0414\\u0430\\u043b\\u0435\\u0435 \\u043f\\u043e\\u0441\\u043b\\u0435\\u0434\\u043e\\u0432\\u0430\\u043b\\u043e \\u043e\\u0431\\u0449\\u0435\\u043d\\u0438\\u0435 \\u0441 \\u043f\\u043e\\u0434\\u0434\\u0435\\u0440\\u0436\\u043a\\u043e\\u0439 \\u0431\\u0430\\u043d\\u043a\\u0430, \\u0433\\u0434\\u0435 \\u043c\\u043d\\u0435 \\u0441\\u043a\\u0430\\u0437\\u0430\\u043b\\u0438 \\u0447\\u0442\\u043e \\u043e \\u043c\\u043e\\u0435\\u0439 \\u043e\\u043f\\u0435\\u0440\\u0430\\u0446\\u0438\\u0438 \\u0432 \\u043e\\u0444\\u0438\\u0441\\u0435 \\u0438 \\u0431\\u0430\\u043d\\u043a\\u043e\\u043c\\u0430\\u0442\\u0435 \\u0412\\u0422\\u0411 \\u043d\\u0435\\u0442 \\u0438\\u043d\\u0444\\u043e\\u0440\\u043c\\u0430\\u0446\\u0438\\u0438 \\u0438 \\u043c\\u043d\\u0435 \\u043d\\u0435\\u043e\\u0431\\u0445\\u043e\\u0434\\u0438\\u043c\\u043e \\u043e\\u0431\\u0440\\u0430\\u0442\\u0438\\u0442\\u044c\\u0441\\u044f \\u0432 \\u043f\\u043e\\u0434\\u0434\\u0435\\u0440\\u0436\\u043a\\u0443 \\u0420\\u0435\\u043d\\u0435\\u0441\\u0441\\u0430\\u043d\\u0441. \\u0417\\u0430\\u0431\\u0440\\u0430\\u043b \\u0434\\u0435\\u043d\\u044c\\u0433\\u0438 \\u0412\\u0422\\u0411, \\u0430 \\u043e\\u0431\\u0440\\u0430\\u0449\\u0430\\u0439\\u0441\\u044f \\u0432 \\u0420\\u0435\\u043d\\u0435\\u0441\\u0441\\u0430\\u043d\\u0441. \\u0412\\u0422\\u0411, \\u0432\\u0435\\u0440\\u043d\\u0438\\u0442\\u0435 \\u043c\\u043e\\u0438 \\u0434\\u0435\\u043d\\u044c\\u0433\\u0438 \\u0432 \\u043a\\u0440\\u0430\\u0442\\u0447\\u0430\\u0439\\u0448\\u0438\\u0435 \\u0441\\u0440\\u043e\\u043a\\u0438, \\u043e\\u0448\\u0438\\u0431\\u043a\\u0438 \\u0432 \\u0440\\u0430\\u0431\\u043e\\u0442\\u0435 \\u0412\\u0430\\u0448\\u0435\\u0433\\u043e \\u0441\\u0442\\u0430\\u0440\\u043e\\u0433\\u043e \\u043e\\u0431\\u043e\\u0440\\u0443\\u0434\\u043e\\u0432\\u0430\\u043d\\u0438\\u044f \\u043d\\u0435 \\u043c\\u043e\\u0433\\u0443\\u0442 \\u0431\\u044b\\u0442\\u044c \\u043f\\u0440\\u043e\\u0431\\u043b\\u0435\\u043c\\u043e\\u0439 \\u043a\\u043b\\u0438\\u0435\\u043d\\u0442\\u043e\\u0432 \\u0431\\u0430\\u043d\\u043a\\u0430. \\u0422\\u0440\\u0435\\u0431\\u0443\\u044e \\u0441\\u0432\\u044f\\u0437\\u0430\\u0442\\u044c\\u0441\\u044f \\u0441\\u043e \\u043c\\u043d\\u043e\\u0439, \\u0432 \\u0438\\u043d\\u043e\\u043c \\u0441\\u043b\\u0443\\u0447\\u0430\\u0435 \\u0431\\u0443\\u0434\\u0443 \\u0432\\u044b\\u043d\\u0443\\u0436\\u0434\\u0435\\u043d \\u043f\\u0438\\u0441\\u0430\\u0442\\u044c \\u0437\\u0430\\u044f\\u0432\\u043b\\u0435\\u043d\\u0438\\u0435 \\u043e \\u0445\\u0438\\u0449\\u0435\\u043d\\u0438\\u0438 \\u0434\\u0435\\u043d\\u0435\\u0436\\u043d\\u044b\\u0445 \\u0441\\u0440\\u0435\\u0434\\u0441\\u0442\\u0432 \\u0432 \\u043f\\u043e\\u043b\\u0438\\u0446\\u0438\\u044e.\",\n          \"\\u041e\\u0431\\u0440\\u0430\\u0449\\u0430\\u043b\\u0430\\u0441\\u044c \\u0432 \\u0420\\u043e\\u0441\\u0441\\u0435\\u043b\\u044c\\u0445\\u043e\\u0437\\u0431\\u0430\\u043d\\u043a \\u0434\\u043b\\u044f \\u043e\\u0444\\u043e\\u0440\\u043c\\u043b\\u0435\\u043d\\u0438\\u044f \\u043a\\u0440\\u0435\\u0434\\u0438\\u0442\\u0430. \\u041a\\u043e\\u043d\\u0441\\u0443\\u043b\\u044c\\u0442\\u0430\\u0446\\u0438\\u044f \\u043f\\u043e\\u043d\\u0440\\u0430\\u0432\\u0438\\u043b\\u0430\\u0441\\u044c, \\u0432\\u0435\\u0436\\u043b\\u0438\\u0432\\u044b\\u0439, \\u043a\\u0432\\u0430\\u043b\\u0438\\u0444\\u0438\\u0446\\u0438\\u0440\\u043e\\u0432\\u0430\\u043d\\u043d\\u044b\\u0439 \\u0441\\u043e\\u0442\\u0440\\u0443\\u0434\\u043d\\u0438\\u043a \\u043f\\u043e\\u044f\\u0441\\u043d\\u0438\\u043b\\u0430 \\u0432\\u0441\\u0435 \\u0438\\u043d\\u0442\\u0435\\u0440\\u0435\\u0441\\u0443\\u044e\\u0449\\u0438\\u0435 \\u043c\\u0435\\u043d\\u044f \\u0432\\u043e\\u043f\\u0440\\u043e\\u0441\\u044b. \\u0420\\u0430\\u0441\\u043f\\u0438\\u0441\\u0430\\u043b\\u0430 \\u0435\\u0436\\u0435\\u043c\\u0435\\u0441\\u044f\\u0447\\u043d\\u044b\\u0439 \\u043f\\u043b\\u0430\\u0442\\u0451\\u0436 \\u0438 \\u043e\\u0431\\u044a\\u044f\\u0441\\u043d\\u0438\\u043b\\u0430 \\u043a\\u0430\\u043a \\u0444\\u043e\\u0440\\u043c\\u0438\\u0440\\u0443\\u0435\\u0442\\u0441\\u044f \\u043f\\u0440\\u043e\\u0446\\u0435\\u043d\\u0442\\u043d\\u0430\\u044f \\u0441\\u0442\\u0430\\u0432\\u043a\\u0430. \\u041e\\u0431\\u0441\\u043b\\u0443\\u0436\\u0438\\u0432\\u0430\\u043d\\u0438\\u0435 \\u0431\\u044b\\u0441\\u0442\\u0440\\u043e\\u0435, \\u043e\\u0444\\u043e\\u0440\\u043c\\u0438\\u043b\\u0438 \\u0432\\u0441\\u0435 \\u0434\\u043e\\u043a\\u0443\\u043c\\u0435\\u043d\\u0442\\u0432 \\u043f\\u0440\\u0430\\u0432\\u0438\\u043b\\u044c\\u043d\\u043e. \\u041f\\u0440\\u0438\\u043b\\u043e\\u0436\\u0435\\u043d\\u0438\\u0435 \\u0431\\u0430\\u043d\\u043a\\u0430 \\u0443\\u0434\\u043e\\u0431\\u043d\\u043e\\u0435, \\u0432\\u0441\\u0435 \\u043f\\u043e\\u043d\\u044f\\u0442\\u043d\\u043e. \\u041e\\u0447\\u0435\\u043d\\u044c \\u0434\\u043e\\u0432\\u043e\\u043b\\u044c\\u043d\\u0430!\"\n        ],\n        \"semantic_type\": \"\",\n        \"description\": \"\"\n      }\n    },\n    {\n      \"column\": \"rating_value\",\n      \"properties\": {\n        \"dtype\": \"number\",\n        \"std\": 1,\n        \"min\": 1,\n        \"max\": 5,\n        \"num_unique_values\": 5,\n        \"samples\": [\n          1,\n          4,\n          2\n        ],\n        \"semantic_type\": \"\",\n        \"description\": \"\"\n      }\n    },\n    {\n      \"column\": \"clean_text\",\n      \"properties\": {\n        \"dtype\": \"string\",\n        \"num_unique_values\": 12390,\n        \"samples\": [\n          \"\\u0437\\u0430\\u043a\\u0430\\u0437\\u0430\\u043b \\u043e\\u043d\\u043b\\u0430\\u0439\\u043d \\u0434\\u0435\\u0431\\u0435\\u0442\\u043e\\u0432\\u0443\\u044e \\u043a\\u0430\\u0440\\u0442\\u0443 \\u0432\\u043d\\u0435\\u0441 \\u0434\\u0430\\u043d\\u043d\\u044b\\u0435 \\u0432\\u0434\\u0440\\u0435\\u0441 \\u043f\\u0430\\u0441\\u043f\\u043e\\u0440\\u0442 \\u043f\\u043e\\u043b\\u0443\\u0447\\u0438\\u043b \\u0441\\u043c\\u0441 \\u043a\\u0430\\u0440\\u0442\\u0443 \\u0434\\u043e\\u0441\\u0442\\u0430\\u0432\\u044f\\u0442 \\u043f\\u043e\\u0437\\u0432\\u043e\\u043d\\u0438\\u043b\\u0438 \\u0441\\u043a\\u0430\\u0437\\u0430\\u043b\\u0438 \\u0440\\u0430\\u0431\\u043e\\u0442\\u0430\\u044e\\u0442 \\u0434\\u043e\\u0441\\u0442\\u0430\\u0432\\u0449\\u0438\\u043a\\u0438 \\u0434\\u0435\\u043d\\u044c \\u0432\\u0441\\u0451 \\u043a\\u0430\\u0440\\u0442\\u0443 \\u0437\\u0430\\u043a\\u0430\\u0437\\u0430\\u043b \\u043f\\u0440\\u043e\\u0442\\u043e \\u0441\\u0443\\u043c\\u043c\\u0430 \\u043f\\u0440\\u043e\\u0434\\u0430\\u0436\\u0438 \\u043a\\u0432\\u0430\\u0440\\u0442\\u0438\\u0440\\u044b \\u0445\\u0440\\u0430\\u043d\\u0438\\u0442\\u044c\\u0441\\u044f \\u0434\\u043e\\u043c\\u0430 \\u043f\\u043e\\u0440\\u044f\\u0434\\u043e\\u043a \\u0432\\u043c\\u0435\\u0441\\u0442\\u043e \\u043f\\u0440\\u0438\\u0433\\u043e\\u0442\\u043e\\u0432\\u043b\\u0435\\u043d\\u0438\\u044f \\u043f\\u0440\\u0430\\u0437\\u0434\\u043d\\u0438\\u0447\\u043d\\u043e\\u0433\\u043e \\u0441\\u0442\\u043e\\u043b\\u0430 \\u043f\\u043e\\u0438\\u0441\\u043a \\u0434\\u0440\\u0443\\u0433\\u043e\\u0433\\u043e \\u0440\\u0430\\u0441\\u0442\\u043e\\u0440\\u043e\\u043f\\u043d\\u043e\\u0433\\u043e \\u0431\\u0430\\u043d\\u043a\\u0430\",\n          \"\\u0431\\u043e\\u043b\\u044c\\u0448\\u0435 \\u0433\\u043e\\u0434\\u0430 \\u044f\\u0432\\u043b\\u044f\\u044e\\u0441\\u044c \\u0432\\u043b\\u0430\\u0434\\u0435\\u043b\\u0438\\u0446\\u0435\\u0439 \\u0434\\u0435\\u0431\\u0435\\u0442\\u043e\\u0432\\u043e\\u0439 \\u043a\\u0430\\u0440\\u0442\\u044b \\u0431\\u0438\\u0437\\u043d\\u0435\\u0441 \\u0441\\u0447\\u0435\\u0442\\u0430 \\u043a\\u0430\\u0441\\u0430\\u0435\\u0442\\u0441\\u044f \\u0434\\u0435\\u0431\\u0435\\u0442\\u043e\\u0432\\u043e\\u0439 \\u043a\\u0430\\u0440\\u0442\\u044b \\u0443\\u0434\\u043e\\u0431\\u043d\\u043e\\u0435 \\u043f\\u043e\\u043d\\u044f\\u0442\\u043d\\u043e\\u0435 \\u043c\\u043e\\u0431\\u0438\\u043b\\u044c\\u043d\\u043e\\u0435 \\u043f\\u0440\\u0438\\u043b\\u043e\\u0436\\u0435\\u043d\\u0438\\u0435 \\u0445\\u043e\\u0440\\u043e\\u0448\\u0438\\u0439 \\u043f\\u0440\\u043e\\u0446\\u0435\\u043d\\u0442 \\u0431\\u043e\\u043b\\u044c\\u0448\\u043e\\u0439 \\u0432\\u044b\\u0431\\u043e\\u0440 \\u043a\\u0430\\u0442\\u0435\\u0433\\u043e\\u0440\\u0438\\u0439 \\u043a\\u044d\\u0448\\u0431\\u044d\\u043a\\u0430 \\u043a\\u0430\\u0441\\u0435\\u043c\\u043e \\u0431\\u044b\\u0441\\u0442\\u0440\\u043e\\u0435 \\u0437\\u0430\\u043c\\u043e\\u0440\\u043e\\u0447\\u0435\\u043a \\u043e\\u0442\\u043a\\u0440\\u044b\\u0442\\u0438\\u0435 \\u0447\\u0435\\u0442\\u043a\\u043e\\u0435 \\u043f\\u043e\\u043d\\u044f\\u0442\\u043d\\u043e\\u0435 \\u0432\\u0435\\u0434\\u0435\\u043d\\u0438\\u0435 \\u0431\\u0443\\u0445\\u0433\\u0430\\u043b\\u0442\\u0435\\u0440\\u0438\\u0438 \\u043f\\u0440\\u043e\\u0441\\u0442\\u043e \\u0443\\u0434\\u043e\\u0431\\u043d\\u043e \\u0441\\u0434\\u0430\\u0432\\u0430\\u0442\\u044c \\u043e\\u0442\\u0447\\u0435\\u0442\\u043d\\u043e\\u0441\\u0442\\u044c \\u043f\\u043b\\u0430\\u0442\\u0438\\u0442\\u044c \\u043d\\u0430\\u043b\\u043e\\u0433\\u0438 \\u0441\\u0438\\u0441\\u0442\\u0435\\u043c\\u0430 \\u0441\\u0430\\u043c\\u0430 \\u0444\\u043e\\u0440\\u043c\\u0438\\u0440\\u0443\\u0435\\u0442 \\u043f\\u0440\\u043e\\u0441\\u0442\\u043e \\u043d\\u0430\\u0436\\u0430\\u0442\\u044c \\u043a\\u043d\\u043e\\u043f\\u043e\\u0447\\u043a\\u0443 \\u043e\\u0442\\u043f\\u0440\\u0430\\u0432\\u0438\\u0442\\u044c \\u0442\\u0435\\u0445\\u043f\\u043e\\u0434\\u0434\\u0435\\u0440\\u0436\\u043a\\u0430 \\u0432\\u0441\\u0435\\u0433\\u0434\\u0430 \\u0441\\u0432\\u044f\\u0437\\u0438 \\u0441\\u043f\\u0435\\u0446\\u0438\\u0430\\u043b\\u0438\\u0441\\u0442\\u044b \\u0432\\u0441\\u0435\\u0433\\u0434\\u0430 \\u043f\\u0440\\u043e\\u043a\\u043e\\u043d\\u0441\\u0443\\u043b\\u044c\\u0442\\u0438\\u0440\\u0443\\u044e\\u0442 \\u0432\\u043e\\u0437\\u043d\\u0438\\u043a\\u0430\\u044e\\u0449\\u0438\\u043c \\u0432\\u043e\\u043f\\u0440\\u043e\\u0441\\u0430\\u043c \\u043f\\u043e\\u043c\\u043e\\u0433\\u0443\\u0442 \\u0440\\u0430\\u0437\\u043e\\u0431\\u0440\\u0430\\u0442\\u044c\\u0441\\u044f \\u043d\\u0435\\u043e\\u0431\\u0445\\u043e\\u0434\\u0438\\u043c\\u043e\\u0439 \\u0434\\u043e\\u043a\\u0443\\u043c\\u0435\\u043d\\u0442\\u0430\\u0446\\u0438\\u0438 \\u0434\\u0435\\u043a\\u043b\\u0430\\u0440\\u0430\\u0446\\u0438\\u0438 \\u043a\\u0443\\u0434\\u0438\\u0440 \\u043f\\u043b\\u0430\\u0442\\u0435\\u0436\\u043d\\u044b\\u0435 \\u043f\\u043e\\u0440\\u0443\\u0447\\u0435\\u043d\\u0438\\u044f \\u0442\\u0435\\u043a\\u0443\\u0449\\u0438\\u0439 \\u043c\\u043e\\u043c\\u0435\\u043d\\u0442 \\u0442\\u0438\\u043d\\u044c\\u043a\\u043e\\u0444\\u0444 \\u0443\\u0441\\u0442\\u0440\\u0430\\u0438\\u0432\\u0430\\u0435\\u0442 \\u043f\\u043e\\u043b\\u043d\\u043e\\u0441\\u0442\\u044c\\u044e \\u0436\\u0435\\u043b\\u0430\\u043d\\u0438\\u044f \\u043f\\u043e\\u043c\\u0435\\u043d\\u044f\\u0442\\u044c \\u0432\\u043e\\u0437\\u043d\\u0438\\u043a\\u0430\\u043b\\u043e\",\n          \"\\u043e\\u0442\\u0434\\u0435\\u043b\\u0435\\u043d\\u0438\\u0435 \\u0431\\u0430\\u043d\\u043a\\u0430 \\u0440\\u0443\\u0441\\u0441\\u043a\\u0438\\u0439 \\u0441\\u0442\\u0430\\u043d\\u0434\\u0430\\u0440\\u0442 \\u0430\\u0434\\u0440\\u0435\\u0441\\u0443 \\u0433\\u043e\\u0440 \\u043d\\u0430\\u0431\\u0435\\u0440\\u0435\\u0436\\u043d\\u044b\\u0435 \\u0447\\u0435\\u043b\\u043d\\u044b \\u043f\\u0440\\u043e\\u0441\\u043f\\u0435\\u043a\\u0442 \\u043c\\u0438\\u0440\\u0430 \\u043e\\u0431\\u0440\\u0430\\u0442\\u0438\\u043b\\u0441\\u044f \\u0440\\u0435\\u043a\\u043e\\u043c\\u0435\\u043d\\u0434\\u0430\\u0446\\u0438\\u0438 \\u0437\\u043d\\u0430\\u043a\\u043e\\u043c\\u044b\\u0445 \\u0441\\u0440\\u043e\\u0447\\u043d\\u043e \\u043f\\u043e\\u043d\\u0430\\u0434\\u043e\\u0431\\u0438\\u043b\\u0430\\u0441\\u044c \\u043f\\u043e\\u0434\\u0430\\u0440\\u043e\\u0447\\u043d\\u0430\\u044f \\u043a\\u0430\\u0440\\u0442\\u0430 \\u0445\\u043e\\u0447\\u0443 \\u0432\\u044b\\u0440\\u0430\\u0437\\u0438\\u0442\\u044c \\u0431\\u043b\\u0430\\u0433\\u043e\\u0434\\u0430\\u0440\\u043d\\u043e\\u0441\\u0442\\u044c \\u0441\\u043e\\u0442\\u0440\\u0443\\u0434\\u043d\\u0438\\u043a\\u0430\\u043c \\u0434\\u0435\\u0432\\u0443\\u0448\\u043a\\u0430 \\u043a\\u043e\\u0442\\u043e\\u0440\\u0430\\u044f \\u043e\\u0444\\u043e\\u0440\\u043c\\u043b\\u044f\\u043b\\u0430 \\u043f\\u043e\\u0434\\u0430\\u0440\\u043e\\u0447\\u043d\\u0443\\u044e \\u043a\\u0430\\u0440\\u0442\\u0443 \\u043f\\u043e\\u0434\\u0440\\u043e\\u0431\\u043d\\u043e \\u0440\\u0430\\u0441\\u0441\\u043a\\u0430\\u0437\\u0430\\u043b\\u0430 \\u043c\\u043e\\u0436\\u043d\\u043e \\u0432\\u043e\\u0441\\u043f\\u043e\\u043b\\u044c\\u0437\\u043e\\u0432\\u0430\\u0442\\u044c\\u0441\\u044f \\u043f\\u043e\\u043c\\u043e\\u0433\\u043b\\u0430 \\u0441\\u0440\\u0430\\u0437\\u0443 \\u043f\\u043e\\u043f\\u043e\\u043b\\u043d\\u0438\\u0442\\u044c \\u0432\\u043e\\u043f\\u0440\\u043e\\u0441\\u043e\\u0432 \\u043e\\u0441\\u0442\\u0430\\u043b\\u043e\\u0441\\u044c \\u0431\\u044b\\u0441\\u0442\\u0440\\u043e\\u0435 \\u043a\\u043e\\u043c\\u0444\\u043e\\u0440\\u0442\\u043d\\u043e\\u0435 \\u043e\\u0444\\u043e\\u0440\\u043c\\u043b\\u0435\\u043d\\u0438\\u0435 \\u044d\\u0442\\u043e \\u0432\\u044b\\u0441\\u043e\\u043a\\u0438\\u0439 \\u0441\\u0435\\u0440\\u0432\\u0438\\u0441 \\u043a\\u043e\\u0442\\u043e\\u0440\\u044b\\u0439 \\u0433\\u043e\\u0442\\u043e\\u0432 \\u043f\\u043e\\u043a\\u0430\\u0437\\u0430\\u0442\\u044c \\u043a\\u0430\\u0436\\u0434\\u044b\\u0439 \\u0431\\u0430\\u043d\\u043a \\u0445\\u043e\\u0434\\u0435 \\u043e\\u0444\\u043e\\u0440\\u043c\\u043b\\u0435\\u043d\\u0438\\u044f \\u043f\\u043e\\u0434\\u0430\\u0440\\u043e\\u0447\\u043d\\u043e\\u0439 \\u043a\\u0430\\u0440\\u0442\\u044b \\u0441\\u043e\\u0442\\u0440\\u0443\\u0434\\u043d\\u0438\\u043a \\u043f\\u0440\\u0435\\u0434\\u043b\\u043e\\u0436\\u0438\\u043b \\u043e\\u0444\\u043e\\u0440\\u043c\\u0438\\u0442\\u044c \\u043a\\u0440\\u0435\\u0434\\u0438\\u0442\\u043d\\u0443\\u044e \\u043a\\u0430\\u0440\\u0442\\u0443 \\u043a\\u043e\\u0442\\u043e\\u0440\\u043e\\u0439 \\u043c\\u043e\\u0436\\u043d\\u043e \\u043f\\u043e\\u043b\\u0443\\u0447\\u0430\\u0442\\u044c \\u043a\\u0435\\u0448\\u0431\\u044d\\u043a \\u0431\\u043e\\u043d\\u0443\\u0441\\u044b \\u0434\\u043e\\u043f\\u043e\\u043b\\u043d\\u0438\\u0442\\u0435\\u043b\\u044c\\u043d\\u044b\\u0439 \\u0434\\u043e\\u0445\\u043e\\u0434 \\u043f\\u0440\\u0435\\u0437\\u0435\\u043d\\u0442\\u0430\\u0446\\u0438\\u044f \\u043f\\u043e\\u043b\\u0443\\u0447\\u0438\\u043b\\u0430\\u0441\\u044c \\u0443\\u0432\\u043b\\u0435\\u043a\\u0430\\u0442\\u0435\\u043b\\u044c\\u043d\\u043e\\u0439 \\u043d\\u0430\\u0432\\u044f\\u0437\\u0447\\u0438\\u0432\\u043e\\u0439 \\u043e\\u0431\\u044f\\u0437\\u0430\\u0442\\u0435\\u043b\\u044c\\u043d\\u043e \\u043e\\u0431\\u0434\\u0443\\u043c\\u0430\\u044e \\u043f\\u0440\\u0435\\u0434\\u043b\\u043e\\u0436\\u0435\\u043d\\u0438\\u0435 \\u0431\\u0430\\u043d\\u043a\\u0430 \\u0441\\u043f\\u0430\\u0441\\u0438\\u0431\\u043e \\u0431\\u0430\\u043d\\u043a \\u0440\\u0443\\u0441\\u0441\\u043a\\u0438\\u0439 \\u0441\\u0442\\u0430\\u043d\\u0434\\u0430\\u0440\\u0442 \\u0442\\u0430\\u043a\\u0438\\u0445 \\u0441\\u043e\\u0442\\u0440\\u0443\\u0434\\u043d\\u0438\\u043a\\u043e\\u0432 \\u0431\\u0443\\u0434\\u0443 \\u0440\\u0430\\u0434 \\u043f\\u0440\\u043e\\u0434\\u043e\\u043b\\u0436\\u0438\\u0442\\u044c \\u0441\\u043e\\u0442\\u0440\\u0443\\u0434\\u043d\\u0438\\u0447\\u0435\\u0441\\u0442\\u0432\\u043e\"\n        ],\n        \"semantic_type\": \"\",\n        \"description\": \"\"\n      }\n    }\n  ]\n}"
            }
          },
          "metadata": {},
          "execution_count": 11
        }
      ]
    },
    {
      "cell_type": "markdown",
      "source": [
        "### Векторизация TF-IDF"
      ],
      "metadata": {
        "id": "1_CEkWSJ0eft"
      }
    },
    {
      "cell_type": "code",
      "source": [
        "vectorizer = TfidfVectorizer(max_features=1000)\n",
        "X = vectorizer.fit_transform(df['clean_text'])"
      ],
      "metadata": {
        "id": "6asjia-V0kDs"
      },
      "execution_count": 12,
      "outputs": []
    },
    {
      "cell_type": "markdown",
      "source": [
        "###  Кластеризация K-Means"
      ],
      "metadata": {
        "id": "0_TLh7l80nlx"
      }
    },
    {
      "cell_type": "code",
      "source": [
        "kmeans = KMeans(n_clusters=5, random_state=42)\n",
        "labels = kmeans.fit_predict(X)\n",
        "df['cluster'] = labels"
      ],
      "metadata": {
        "id": "3hFnMZBa0s0o"
      },
      "execution_count": 13,
      "outputs": []
    },
    {
      "cell_type": "markdown",
      "source": [
        "### Сравнение результатов с реальной разметкой"
      ],
      "metadata": {
        "id": "p80XMyYC6NyI"
      }
    },
    {
      "cell_type": "code",
      "source": [
        "le = LabelEncoder()\n",
        "true_labels = le.fit_transform(df['rating_value'])\n",
        "ari = adjusted_rand_score(true_labels, labels)\n",
        "print(f\"Adjusted Rand Index: {ari:.4f}\")\n"
      ],
      "metadata": {
        "colab": {
          "base_uri": "https://localhost:8080/"
        },
        "id": "x4P8Paxz0_91",
        "outputId": "020c7821-c326-473d-de91-b96c866b7636"
      },
      "execution_count": 14,
      "outputs": [
        {
          "output_type": "stream",
          "name": "stdout",
          "text": [
            "Adjusted Rand Index: 0.2261\n"
          ]
        }
      ]
    },
    {
      "cell_type": "markdown",
      "source": [
        "Кластеризация не точная, но и не прям ультракринжовая"
      ],
      "metadata": {
        "id": "9R4YaiEP6fe7"
      }
    },
    {
      "cell_type": "code",
      "source": [
        "for label in sorted(df['cluster'].unique()):\n",
        "    print(f\"\\nКластер {label}:\")\n",
        "    for text in df[df['cluster'] == label]['review'].head(3):\n",
        "        print(f\"- {text}\")\n"
      ],
      "metadata": {
        "colab": {
          "base_uri": "https://localhost:8080/"
        },
        "id": "8uk8euzd1EJz",
        "outputId": "7a0efef5-9c06-4b44-bed4-43804b9e7cca"
      },
      "execution_count": 15,
      "outputs": [
        {
          "output_type": "stream",
          "name": "stdout",
          "text": [
            "\n",
            "Кластер 0:\n",
            "- Добрый день! Я являюсь ИП и стоял перед выбором банка для открытия расчетного счета. Посоветовали обратиться в Россельхозбанк, что я и сделал , и не прогадал. Теперь хочу рассказать о моем впечатлении , может быть это тоже поможет кому нибудь сделать выбор ! Офис расположен удобно, электронная очередь обеспечивает порядок и дисциплину. После взятия талона вызвали через 2 минуты к специалисту. Мне подробно рассказали про условия счета, про возможность проведения платежных поручений, про мобильное приложение. На все вопросы ответили, приложение подключили и рассказали, как им пользоваться. Всего минут 10 и мою потребность полностью удовлетворили. Сотрудник просто грамотно и на понятном нам клиентам языке рассказал все, открыто и без всяких подводных камней. Это приятно удивляет. Так же я рассказал, что планирую кредитоваться и узнал условия текущие по кредитам. С этим вопросом мне надо подумать, так что мы с сотрудником обменялись контактными данными для связи и назначения встречи в офисе банка в дальнейшем. Хочу сказать спасибо коллективу отделения Россельхозбанка в Элисте и руководителю за ценный вклад в развитие своих сотрудников ! Всем желаю успехов, а банку процветания.\n",
            "- Здравствуйте! Достаточно давно являюсь клиентом этого банка, 12 января я обратилась в офис Россельхозбанка города Анжеро-Судженск с проблемой, при переводе денежных средств через личный кабинет у меня произошла блокировка личного кабинета и перевод осуществить не получалось, сотрудники банка практически со входа меня приняли и очень быстро помогли, взяли паспорт, разблокировали личный кабинет и помогли быстро осуществить перевод, благодарю ваш коллектив за быструю и качественную помощь.\n",
            "- Здравствуйте,являюсь клиентом банка с ноября 2022 года. Пришел в банк ДОМ.РФ по рекомендации друга. Хотелось бы отметить работу премиум сегмента - без очередей, отдельный кабинет, все четко по делу. В результате оформил вклад и карту по премиальному обслуживанию. Сотрудник Евгения подробно рассказала по тарифу и набору услуг, в процессе обслуживания возникало ряд вопросов, которые оперативно они решались. Есть с чем сравнить. Определенно рекомендую Банк Дом.РФ в качестве обслуживания.\n",
            "\n",
            "Кластер 1:\n",
            "- 14 января 2023 года была попытка перевода денег в размере 15 тыс клиенту другого банка, но произошел какой-то сбой в приложении, деньги с карты списались, но до получателя не дошли. Начали звонить в техподдержку, ощущение что там сидят вчерашние школьники. Нам обещали что через пять рабочих дней деньги вернуться, прошло пять дней, звоним, там нам очередной профи сообщает что предыдущий оператор не так оформил заявку, через пару дней все исправят, проходит еще пару дней, следующий оператор утверждает что надо не в такой форме заявку подать, и через день все вернется.... потом мы поехали в офис Альфа банка, там заверили что в течении суток все решится, но само собой ничего не решилось, нам написали что нужно еще пару дней подождать... Сегодня 01.02.2023 деньги висят в блокировке!!!! То ли в Альфа банке в принципе такое отношение к клиентам, либо там работают полнейшие непрофи (это я корректно выразилась, хотя очень хочется назвать по другому), что тоже говорит само за себя. Альфа банк, команда непрофессионалов. Не рекомендую пользоваться услугами этого банка.\n",
            "- У меня сложилось устойчивое впечатление, что в этом банке работают некомпетентные, хамоватые люди, которые не знают русский язык и не способны делать выводы. Поступают постоянные звонки от сотрудников этого банка . Сформулировать вопрос они не способны. То ли я им должен (никогда не был и не буду клиентом этого банка ), то ли они кого-то разыскивают. Что хотят от меня, никто пояснить не смог, ответы слушать не хотят. Угрозы и телефонный терроризм - стиль работы этого банка . После переписки с представителями этого банка (результат не достигнут), я могу точно сказать, что стиль работы этого банка - это повсеместное нарушение действующего законодательства РФ (230-ФЗ и 152-ФЗ в частности).\n",
            "- Прошу хоть раз сайт вмешаться в это беззаконие. Вчера и несколько дней подряд мне по телефону говорили, что я могу открыть новый счёт под 8 процентов Копилка . Сказали, я могу его открыть по условиям, но надо открывать 1 числа, чтобы не потерять месяц. Внесла деньи. Стала открывать сегодня снаружи написано 8 процентов, а внутрь захожу, и там 6,5 процентов. Теперь говорят, чничего не откроете, так как у Вас последний день ледало 900000 рублей, а долдно было не более 50000 последние 90 дней. А что же Вы мне это не сказали вчера, перед тем, как я деньги внесла, чтобы сегодня с них открыть счёт. В итоге на линии слушаю только, что сама виновата, что вчера положила деньги, чтобы с ними открыть сегодня и что это больше 50000. Банк не проявляет ко мне ни лояльность, ни клиентоориентированность. Причём деньги у меня были один день и на счету РГС-банка, а не на их счету. Это сколько надо времени нервы было мне мотать. Им оказалось это проще, чем выплатить доп процент. Сами меня силой перевели к себе, сами убрали все лимиты по переводам и снятию. Сегодня был ещё один показатель дискриминации. Причём в офисе мне не отдали мои деньги, вчера заказанные, сказали платить комиссию 3000 рублей, так как они 14 дней не пролежали. На линию звоню, операторы бросают трубки. Отобрали всё. Дозвониться со своего номера не могу. Надеюсь, сайт хоть раз реально вмешается. Вы мне сами не сказали, что надо было. Обманщики.\n",
            "\n",
            "Кластер 2:\n",
            "- 28.12.22 дважды списали платёж по эпотеки. Было создано обращение -10211885. Через 2 недели ответили, что принято решение о возврате ошибочно списанной суммы. Деньги так и не перевели. Предложили создать обращение на предыдущее обращение -10312290 зарегистрировано и будет рассмотрено в срок до 25.01.2023. К слову досихпор рассматривают. Сотрудники только извиняются а по факту проблему банк не решает уже больше месяца. Дальше ещё интересней. В январе 2023 г. списывают платёж по эпотеки меньше чем нужно на 150 р(средства для полного погошения платежа на счёте есть) хоть в графике платежей никаких изменений нет. По этому вопросу тоже создали обращение Ваше обращение -10378342 зарегистрировано и будет рассмотрено в срок до 07.02.2023. Его думаю тоже месяцами будут рассматривать. А потом выставят неустойку, за не полностью оплаченный платёж и ещё кредитную историю испортят.\n",
            "- Через онлайн чат в приложении оставил обращение банку ( -10298361) Добрый день ! Не могу разобраться с расчетом процентов по последнему досрочному платежу от 13.01.2023. После очередного платежа по графику 02.01.2023 остаток основного долга составил 2166136.87 (с этим я полностью согласен) 13.01.2023 досрочное погашение на 100.000, расчет должен был получиться такой 2166136,87(оставшаяся сумма долга) 365(дней в году) 11,4 100( ставка) 11(дней между 02.01 и 13.01) 7442,02 По графику платежей прошла сумма 7453,84 В связи с этим, прошу пояснить как были расчитаны данные проценты. Спасибо! Через некоторое время получил ответ Заявление на досрочное погашение по Вашему кредитному договору исполнено в соответствии с указанными параметрами 23.01 оставляю жалобу, что ответ не соответствует вопросу. Ее принимают со сроком рассмотрения 1-7 Календарных дней. Сегодня 01.02, идет 9 день, ответа нет. Позвонил в колл центр, все как в отзывах у других клиентов - передали в соответствующий отдел. Признаю что может быть и у меня ошибка, дайте свой расчет, если я не прав то закончим на этом, если вы - исправьте ошибку.\n",
            "- У меня ипотека с 2007 года. В 2008 году Юниаструм банк, передал ипотечный договор в ВТБ. На протяжении почти 15 лет мы регулярно вносили платежи по договору и согласно графика платежей. Проблем не возникало. В мае 2020 года я воспользовалась ипотечными каникулами. В марте 2012 года я возобновила платежи. В июле 2022 года я обратилась в банк за новым графиком платежей и мне его предоставили. Но 02 ноября 2022 года, когда я пыталась внести очередной платеж, и узнать его сумму у меня в личном кабинете появилась некорректно указанная сумма. В службе поддержки мне не смогли помочь, и я пришла в банк. В банке мы составили обращение, и мне сказали, что это технический сбой и скоро проблему устранят. С тех пор проблему не устранили, сумма постоянно меняется, в банке не могут или не хотят дать вразумительный ответ, ограничиваются отписками. И это тянется по сей день. Я несколько раз в неделю обращаюсь в поддержку узнать о судьбе моего завления о решении вопроса с оплатой ипотеки, но они постоянно переносят сроки рассмотрения моего заявления. Иногда мне звонит отдел недоимки банка и требует погасить сумму задолженности, которая каждый раз разная и даже близко не похожа на сумму ежемесячного платежа, согласно графика платежей, кстати заверенного банком. 29 января я обратилась в службу поддержки, с просьбой ускорить сроки рассмотрения моего вопроса, так, как 31 января 2023 года истекает срок ипотечного договора и я готова его полностью закрыть. На это обращение был дан ответ, что мое обращение рассмторено. Сегодня 1 февраля, стуация не изменилась. У меня вопрос к банку, он что не хочет получить деньги и снять обременения с моей квартиры? Все документы и скриншоты перписки у меня на руках. Видимо мне придется обращаться с этим вопросом в суд. Мне очень не приятно такое отношение к клиентам.\n",
            "\n",
            "Кластер 3:\n",
            "- Мне 17 лет, карту этого банка получил почти год назад. Недавно решил заказать нфс стикер, когда ко мне пришел представитель для вручения этого стикера, оказалось, что дебетовую карту можно получить лишь с 18 лет, а стикер считается дебетовой картой, спросив у сотрудников, представитель банка в этом убедился. Интересно, каким образом я получил обычную карту, а какой-то стикер получить не могу? К тому же чат в приложении не давал мне вызвать оператора, якобы из-за большой нагрузки. Не советую этот банк, он во всем уступает тому же Тинькофф банку. Еще, кстати, Альфа банк недавно добавил функцию выбора категорий кэшбэка, долго думать не надо, откуда взята эта фишка\n",
            "- 26 декабря 2022 года я оформил кредитную карту альфа банка через приложение магазина магнит, но в следующем месяце обещанные 3500 бонусов на карту магнит от банка не получил. Я пытался решить этот вопрос в онлайн чате альфа банка, но столкнулся с полной некомпетенцией, сотрудники ничего не знали об этой акции, давали неправильные ответы, ничем помочь не смогли. Просьба разобраться и начислить 3500 бонусов на карту Магнит.\n",
            "- Обнаружил непонятные списания комиссии за перевод с карты на карту. При этом они пришли спустя несколько дней, видимо, после каких-то переводов. Но посмотреть конкретно за какие операции комиссия нельзя, переводы осуществлялись через СБП, либо с карты на карту с комиссией, которая списывается мгновенно. Возможно я что-то пропустил, где-то сам накосячил, поэтому решил написать в чат и просто узнать за что с меня сняли комиссию. В чате сначала разговариваешь с ботом, а когда он не может помочь и просишь позвать оператора, мне говорят что линия перегружена и свободных операторов нет, приходите позже. И так три дня )). И ничего с этим не сделать, поддержка просто отсутствует, очень классно. Раньше таких проблем не было, операторы не сразу, но отвечали, мой запрос сохранялся и по итогу кто-то приходил и помогал. Это очень расстраивает.\n",
            "\n",
            "Кластер 4:\n",
            "- Оформил карту Халва пол года назад и все было отлично, пока мне просто так не повысили ежемесячный платеж на 400р. В приложении информации по платежам я не нашел. Решил разобраться в чем же дело, написал в чат, а там только глупый робот, на менеджера попасть невозможно. Попробовал позвонить и там аналогичная ситуация, представляете, у них перегружена линия из за супер выгодных условий и потоэтому разбирайтесь сами. Често говоря, я не ожидал такого отвратительного сервиса, очень разочаровали и больше я им пользоваться не буду. Закрою сейчас все рассчрочки и закрою счет в этом банке.\n",
            "- Отличное мобильное приложение! Пользуюсь картой с кешбеком , на которую начисляются мили за покупки, очень удобно обменивать их на бронирование гостиниц и покупку железнодорожных билетов. Быстрая связь с банком через чат-бот, удобная навигация. Очень много банков- партнёров, где можно снять наличные без комиссии. За рекомендации оформить карту платят приличную сумму, что очень приятно. Банк рекомендую всем!\n",
            "- Появились вопросы к начислению баллов за произведённые покупки. На какие-то покупки в одном и том же магазине баллы были начислены, а на другие нет. Поэтому возникли вопросы. Обратился в чат. Оператор Ажелика Н-на перечитав в чате суть вопроса очень оперативно подробно дала разъяснения. Ситуация для меня прояснилась, ведь сложно сразу разобраться во всех нюансах начисления баллов. Спасибо таким компетентным консультантам!\n"
          ]
        }
      ]
    },
    {
      "cell_type": "markdown",
      "source": [
        "### Разбиение на train, test и val выборки"
      ],
      "metadata": {
        "id": "jwnhZ2gX7TSw"
      }
    },
    {
      "cell_type": "code",
      "source": [
        "train_val, test = train_test_split(df, test_size=0.2, random_state=42)\n",
        "train, val = train_test_split(train_val, test_size=0.25, random_state=42)\n",
        "\n",
        "print(f\"Train size: {len(train)}\")\n",
        "print(f\"Validation size: {len(val)}\")\n",
        "print(f\"Test size: {len(test)}\")\n"
      ],
      "metadata": {
        "colab": {
          "base_uri": "https://localhost:8080/"
        },
        "id": "gzxpTwwu1Pk0",
        "outputId": "00737ebd-0377-41d6-e8d9-98ff7c88093a"
      },
      "execution_count": 16,
      "outputs": [
        {
          "output_type": "stream",
          "name": "stdout",
          "text": [
            "Train size: 7434\n",
            "Validation size: 2479\n",
            "Test size: 2479\n"
          ]
        }
      ]
    }
  ]
}