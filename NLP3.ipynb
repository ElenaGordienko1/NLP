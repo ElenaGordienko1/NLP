{
  "nbformat": 4,
  "nbformat_minor": 0,
  "metadata": {
    "colab": {
      "provenance": [],
      "authorship_tag": "ABX9TyPSKBRaQLBMr82++iVWJn5a",
      "include_colab_link": true
    },
    "kernelspec": {
      "name": "python3",
      "display_name": "Python 3"
    },
    "language_info": {
      "name": "python"
    }
  },
  "cells": [
    {
      "cell_type": "markdown",
      "metadata": {
        "id": "view-in-github",
        "colab_type": "text"
      },
      "source": [
        "<a href=\"https://colab.research.google.com/github/ElenaGordienko1/NLP/blob/main/NLP3_3.ipynb\" target=\"_parent\"><img src=\"https://colab.research.google.com/assets/colab-badge.svg\" alt=\"Open In Colab\"/></a>"
      ]
    },
    {
      "cell_type": "markdown",
      "source": [
        "#Выпонение лабораторной работы 3"
      ],
      "metadata": {
        "id": "ifHrPiEfwxDR"
      }
    },
    {
      "cell_type": "markdown",
      "source": [
        "## 1 часть"
      ],
      "metadata": {
        "id": "qH6IXrTRxYCD"
      }
    },
    {
      "cell_type": "markdown",
      "source": [
        "Импорт библиотек ⭐"
      ],
      "metadata": {
        "id": "MgF8kFLpw-Zd"
      }
    },
    {
      "cell_type": "code",
      "execution_count": 73,
      "metadata": {
        "id": "E-4r64E0n8mz"
      },
      "outputs": [],
      "source": [
        "import numpy as np\n",
        "import pandas as pd"
      ]
    },
    {
      "cell_type": "markdown",
      "source": [
        "### Функция линейной регрессии"
      ],
      "metadata": {
        "id": "p69EPogrfs5E"
      }
    },
    {
      "cell_type": "code",
      "source": [
        "def linear_regression(X: np.ndarray) -> float:\n",
        "\n",
        "    weight = np.random.randn()\n",
        "    bias = np.random.randn()\n",
        "\n",
        "    return float(X * weight + bias)"
      ],
      "metadata": {
        "id": "Or2Awck3pBMQ"
      },
      "execution_count": 74,
      "outputs": []
    },
    {
      "cell_type": "markdown",
      "source": [
        "### Функция активации: сигмоида\n",
        "\n",
        "\n",
        "\n"
      ],
      "metadata": {
        "id": "xLV9X_HFxakf"
      }
    },
    {
      "cell_type": "code",
      "source": [
        "def activation_func(x: float) -> float:\n",
        "\n",
        "    return 1 / (1 + np.exp(-x))"
      ],
      "metadata": {
        "id": "CpgjmuuJoR0h"
      },
      "execution_count": 75,
      "outputs": []
    },
    {
      "cell_type": "markdown",
      "source": [
        "### Нейрон\n",
        "\n"
      ],
      "metadata": {
        "id": "99LSUbXXyiTt"
      }
    },
    {
      "cell_type": "code",
      "source": [
        "def neuron(x: np.ndarray):\n",
        "\n",
        "    temp_result = linear_regression(x)\n",
        "    result = activation_func(temp_result)\n",
        "    return result"
      ],
      "metadata": {
        "id": "8gbx1S1zobpP"
      },
      "execution_count": 76,
      "outputs": []
    },
    {
      "cell_type": "markdown",
      "source": [
        "\n",
        "### Применение на датасете"
      ],
      "metadata": {
        "id": "kYJ1Nj17y4It"
      }
    },
    {
      "cell_type": "code",
      "source": [
        "df = pd.read_csv(\"/content/Mall_Customers.csv\")\n",
        "\n",
        "X = df['Annual Income (k$)'].values\n",
        "Y = df['Spending Score (1-100)'].values\n",
        "\n",
        "x_sample = X[0]\n",
        "\n",
        "output = neuron(x_sample)\n",
        "print(f\"Входное значение X: {x_sample}, Выход нейрона: {output}\")"
      ],
      "metadata": {
        "id": "Vyxmn9fSoemS",
        "colab": {
          "base_uri": "https://localhost:8080/"
        },
        "outputId": "fe0749fa-30d1-48fc-810e-9fcd9af83121"
      },
      "execution_count": 77,
      "outputs": [
        {
          "output_type": "stream",
          "name": "stdout",
          "text": [
            "Входное значение X: 15, Выход нейрона: 0.017129517486882132\n"
          ]
        }
      ]
    },
    {
      "cell_type": "markdown",
      "source": [
        "## 2 часть"
      ],
      "metadata": {
        "id": "5gb-brH3xhCp"
      }
    },
    {
      "cell_type": "markdown",
      "source": [
        "### Импорт, активация, нормализация"
      ],
      "metadata": {
        "id": "8abVnulL1c6a"
      }
    },
    {
      "cell_type": "code",
      "source": [
        "from sklearn.model_selection import train_test_split\n",
        "from sklearn.metrics import accuracy_score, classification_report\n",
        "import numpy as np\n",
        "import pandas as pd\n",
        "\n",
        "def activation_func(x):\n",
        "    return 1 / (1 + np.exp(-x))\n",
        "\n",
        "def activation_derivative(x):\n",
        "    return x * (1 - x)\n",
        "\n",
        "def normalize(data):\n",
        "    return (data - np.min(data)) / (np.max(data) - np.min(data))\n"
      ],
      "metadata": {
        "id": "lj44W7j51yLc"
      },
      "execution_count": 78,
      "outputs": []
    },
    {
      "cell_type": "markdown",
      "source": [
        "### Класс с возможностью задать количество нейронов слоя и произвести обучение"
      ],
      "metadata": {
        "id": "LSzgvY9T2IBw"
      }
    },
    {
      "cell_type": "code",
      "source": [
        "class NeuralNetwork:\n",
        "    def __init__(self, input_size, hidden1_size, hidden2_size, output_size, learning_rate=0.01):\n",
        "        np.random.seed(42)\n",
        "        self.lr = learning_rate\n",
        "\n",
        "        self.W1 = np.random.randn(input_size, hidden1_size) * 0.1\n",
        "        self.b1 = np.zeros((1, hidden1_size))\n",
        "        self.W2 = np.random.randn(hidden1_size, hidden2_size) * 0.1\n",
        "        self.b2 = np.zeros((1, hidden2_size))\n",
        "        self.W3 = np.random.randn(hidden2_size, output_size) * 0.1\n",
        "        self.b3 = np.zeros((1, output_size))\n",
        "\n",
        "    def forward(self, X):\n",
        "        self.z1 = np.dot(X, self.W1) + self.b1\n",
        "        self.a1 = activation_func(self.z1)\n",
        "        self.z2 = np.dot(self.a1, self.W2) + self.b2\n",
        "        self.a2 = activation_func(self.z2)\n",
        "        self.z3 = np.dot(self.a2, self.W3) + self.b3\n",
        "        self.a3 = activation_func(self.z3)\n",
        "        return self.a3\n",
        "\n",
        "    def backward(self, X, y):\n",
        "        m = X.shape[0]\n",
        "\n",
        "        dZ3 = self.a3 - y\n",
        "        dW3 = np.dot(self.a2.T, dZ3) / m\n",
        "        db3 = np.sum(dZ3, axis=0, keepdims=True) / m\n",
        "\n",
        "        dZ2 = np.dot(dZ3, self.W3.T) * activation_derivative(self.a2)\n",
        "        dW2 = np.dot(self.a1.T, dZ2) / m\n",
        "        db2 = np.sum(dZ2, axis=0, keepdims=True) / m\n",
        "\n",
        "        dZ1 = np.dot(dZ2, self.W2.T) * activation_derivative(self.a1)\n",
        "        dW1 = np.dot(X.T, dZ1) / m\n",
        "        db1 = np.sum(dZ1, axis=0, keepdims=True) / m\n",
        "\n",
        "        self.W3 -= self.lr * dW3\n",
        "        self.b3 -= self.lr * db3\n",
        "        self.W2 -= self.lr * dW2\n",
        "        self.b2 -= self.lr * db2\n",
        "        self.W1 -= self.lr * dW1\n",
        "        self.b1 -= self.lr * db1\n",
        "\n",
        "    def train(self, X, y, epochs):\n",
        "        for epoch in range(epochs):\n",
        "            self.forward(X)\n",
        "            self.backward(X, y)\n",
        "            if epoch % 100 == 0:\n",
        "                loss = np.mean((y - self.a3) ** 2)\n",
        "                print(f'Epoch {epoch}, Loss: {loss:.4f}')\n"
      ],
      "metadata": {
        "id": "sLC4K1fBxlNz"
      },
      "execution_count": 79,
      "outputs": []
    },
    {
      "cell_type": "markdown",
      "source": [
        "### Проверка\n",
        "\n"
      ],
      "metadata": {
        "id": "MxN3KRAG3bHH"
      }
    },
    {
      "cell_type": "code",
      "source": [
        "df = pd.read_csv(\"/content/Mall_Customers.csv\")\n",
        "\n",
        "X_raw = df['Annual Income (k$)'].values.reshape(-1, 1)\n",
        "Y_raw = df['Spending Score (1-100)'].values.reshape(-1, 1)\n",
        "\n",
        "X_normalized = normalize(X_raw)\n",
        "Y_normalized = normalize(Y_raw)\n",
        "\n",
        "input_size = 1\n",
        "hidden1_size = 5\n",
        "hidden2_size = 5\n",
        "output_size = 1\n",
        "learning_rate = 0.01\n",
        "epochs = 1000\n",
        "\n",
        "nn = NeuralNetwork(input_size, hidden1_size, hidden2_size, output_size, learning_rate)\n",
        "nn.train(X_normalized, Y_normalized, epochs)\n",
        "\n",
        "predictions = nn.forward(X_normalized)\n",
        "\n",
        "print(\"Настоящее значение:\", Y_raw.flatten()[:5])\n",
        "print(\"Предсказание:\", (predictions * 100).flatten()[:5])"
      ],
      "metadata": {
        "colab": {
          "base_uri": "https://localhost:8080/"
        },
        "id": "xuMRzmXA3fiL",
        "outputId": "96f54457-204e-4eee-be27-33d12a179273"
      },
      "execution_count": 80,
      "outputs": [
        {
          "output_type": "stream",
          "name": "stdout",
          "text": [
            "Epoch 0, Loss: 0.0692\n",
            "Epoch 100, Loss: 0.0691\n",
            "Epoch 200, Loss: 0.0691\n",
            "Epoch 300, Loss: 0.0691\n",
            "Epoch 400, Loss: 0.0691\n",
            "Epoch 500, Loss: 0.0691\n",
            "Epoch 600, Loss: 0.0691\n",
            "Epoch 700, Loss: 0.0691\n",
            "Epoch 800, Loss: 0.0691\n",
            "Epoch 900, Loss: 0.0691\n",
            "Настоящее значение: [39 81  6 77 40]\n",
            "Предсказание: [50.20817834 50.20817834 50.20819002 50.20819002 50.2082017 ]\n"
          ]
        }
      ]
    },
    {
      "cell_type": "markdown",
      "source": [
        "### Применение"
      ],
      "metadata": {
        "id": "AjK2sZl55p3z"
      }
    },
    {
      "cell_type": "markdown",
      "source": [
        "## 3 часть"
      ],
      "metadata": {
        "id": "JtRp2uwcIImk"
      }
    },
    {
      "cell_type": "markdown",
      "source": [
        "### Реализация GPT"
      ],
      "metadata": {
        "id": "MAFYIOFhIg6v"
      }
    },
    {
      "cell_type": "markdown",
      "source": [
        "### Обработка текста"
      ],
      "metadata": {
        "id": "Gv-4D_3ECXDK"
      }
    },
    {
      "cell_type": "code",
      "source": [
        "def tokenize_text(text):\n",
        "    return text.split()\n",
        "\n",
        "def create_input_target_sequences(sequences):\n",
        "    input_sequences, target_sequences = [], []\n",
        "    for sentence in sequences:\n",
        "        mid = len(sentence) // 2\n",
        "        input_sequences.append(np.array(sentence[:mid]))\n",
        "        target_sequences.append(np.array(sentence[mid:]))\n",
        "    return input_sequences, target_sequences\n",
        "\n",
        "embedding_dim = 128\n",
        "attention_dim = 32\n",
        "seq_len = 64\n",
        "drop_rate = 0.1\n",
        "\n",
        "text = \"\"\"вы помните,\n",
        "вы всё, конечно, помните,\n",
        "как я стоял,\n",
        "приблизившись к стене,\n",
        "взволнованно ходили вы по комнате\n",
        "и что-то резкое\n",
        "в лицо бросали мне.\n",
        "вы говорили:\n",
        "нам пора расстаться,\n",
        "что вас измучила\n",
        "моя шальная жизнь,\n",
        "что вам пора за дело приниматься,\n",
        "а мой удел — катиться дальше, вниз.\n",
        "\"\"\"\n",
        "\n",
        "sentences = text.strip().replace(\"\\n\", \" \").split(\". \")\n",
        "words = set(\" \".join(sentences).split())\n",
        "\n",
        "word_to_index = {word: idx for idx, word in enumerate(words)}\n",
        "index_to_word = {idx: word for word, idx in word_to_index.items()}\n",
        "vocab_size = len(word_to_index)\n",
        "\n",
        "sequences = [[word_to_index[word] for word in sentence.split()] for sentence in sentences]\n",
        "input_sequences, target_sequences = create_input_target_sequences(sequences)\n",
        "\n",
        "input_sequences = [seq.reshape(1, len(seq), 1) for seq in input_sequences]\n",
        "target_sequences = [seq.reshape(1, len(seq), 1) for seq in target_sequences]"
      ],
      "metadata": {
        "id": "DFMzlVL8BQnR"
      },
      "execution_count": 88,
      "outputs": []
    },
    {
      "cell_type": "markdown",
      "source": [
        "### Класс голова"
      ],
      "metadata": {
        "id": "MbEOKESxCNzj"
      }
    },
    {
      "cell_type": "code",
      "source": [
        "class Head:\n",
        "    def __init__(self, embedding_dim, attention_dim, seq_len, drop_rate, vocab_size):\n",
        "        self.embedding_dim = embedding_dim\n",
        "        self.attention_dim = attention_dim\n",
        "        self.seq_len = seq_len\n",
        "        self.drop_rate = drop_rate\n",
        "        self.vocab_size = vocab_size\n",
        "\n",
        "        self.key_matrix = np.random.randn(embedding_dim, attention_dim) * 0.1\n",
        "        self.query_matrix = np.random.randn(embedding_dim, attention_dim) * 0.1\n",
        "        self.value_matrix = np.random.randn(embedding_dim, attention_dim) * 0.1\n",
        "        self.output_projection = np.random.randn(attention_dim, embedding_dim) * 0.1\n",
        "        self.mask_matrix = np.tril(np.ones((seq_len, seq_len)))\n",
        "\n",
        "        self.embeddings = np.random.randn(vocab_size, embedding_dim) * 0.1\n",
        "\n",
        "    def compute(self, input_tensor):\n",
        "        B, T, C = input_tensor.shape\n",
        "\n",
        "        key_proj = np.dot(input_tensor, self.key_matrix)     # (B, T, hs)\n",
        "        query_proj = np.dot(input_tensor, self.query_matrix) # (B, T, hs)\n",
        "        value_proj = np.dot(input_tensor, self.value_matrix) # (B, T, hs)\n",
        "\n",
        "        scores = np.matmul(query_proj, key_proj.transpose(0, 2, 1)) * (self.attention_dim ** -0.5)\n",
        "        scores = np.where(self.mask_matrix[:T, :T] == 0, float('-inf'), scores)\n",
        "\n",
        "        exp_scores = np.exp(scores - np.max(scores, axis=-1, keepdims=True))\n",
        "        attention_weights = exp_scores / np.sum(exp_scores, axis=-1, keepdims=True)\n",
        "\n",
        "        # Dropout\n",
        "        dropout_mask = np.random.rand(*attention_weights.shape) > self.drop_rate\n",
        "        attention_weights *= dropout_mask\n",
        "\n",
        "        context = np.matmul(attention_weights, value_proj)   # (B, T, hs)\n",
        "        output_tensor = np.dot(context, self.output_projection)  # (B, T, C)\n",
        "\n",
        "        return output_tensor, context\n",
        "\n",
        "    def forward(self, input_tensor):\n",
        "        output_tensor, _ = self.compute(input_tensor)\n",
        "        return output_tensor\n",
        "\n",
        "    def backward(self, input_tensor, grad_output):\n",
        "        return grad_output\n",
        "\n",
        "    def train(self, input_tensor, target_tensor, learning_rate=0.001):\n",
        "        output_tensor, context = self.compute(input_tensor)\n",
        "        B, T, C = output_tensor.shape\n",
        "\n",
        "        target_embeddings = self.embeddings[target_tensor.squeeze(axis=-1)]  # (B, T, C)\n",
        "        loss = np.mean(np.sum((output_tensor - target_embeddings) ** 2, axis=-1))\n",
        "\n",
        "        grad_output = (output_tensor - target_embeddings) / target_embeddings.size  # (B, T, C)\n",
        "\n",
        "        grad_output_projection = np.dot(context.reshape(-1, self.attention_dim).T,\n",
        "                                        grad_output.reshape(-1, self.embedding_dim))\n",
        "        self.output_projection -= learning_rate * grad_output_projection\n",
        "\n",
        "        mean_grad = np.mean(grad_output, axis=0)  # (T, C)\n",
        "        mean_input = np.mean(input_tensor, axis=0)  # (T, C)\n",
        "\n",
        "        grad_key = np.dot(mean_input.T, mean_grad)\n",
        "        grad_query = np.dot(mean_input.T, mean_grad)\n",
        "        grad_value = np.dot(mean_input.T, mean_grad)\n",
        "\n",
        "        self.key_matrix -= learning_rate * grad_key[:, :self.attention_dim]\n",
        "        self.query_matrix -= learning_rate * grad_query[:, :self.attention_dim]\n",
        "        self.value_matrix -= learning_rate * grad_value[:, :self.attention_dim]\n",
        "\n",
        "        return loss\n",
        "\n",
        "    def print_embeddings(self, epoch, input_tensor, output_tensor):\n",
        "        print(f\"Epoch {epoch} - Input[0][:5]: {input_tensor[0, 0, :5]}\")\n",
        "        print(f\"Epoch {epoch} - Target[0][:5]: {output_tensor[0, 0, :5]}\")"
      ],
      "metadata": {
        "id": "jX_vf13NzmwN"
      },
      "execution_count": 89,
      "outputs": []
    },
    {
      "cell_type": "markdown",
      "source": [
        "### Инициализация модели и обучение"
      ],
      "metadata": {
        "id": "27yf4YJUCBV3"
      }
    },
    {
      "cell_type": "code",
      "source": [
        "\n",
        "input_sequences = [np.random.randn(seq.shape[0], seq.shape[1], embedding_dim) for seq in input_sequences]\n",
        "\n",
        "attention_head = Head(embedding_dim, attention_dim, seq_len, drop_rate, vocab_size)\n",
        "\n",
        "epochs = 10\n",
        "for epoch in range(epochs):\n",
        "    total_loss = 0\n",
        "    for i in range(len(input_sequences)):\n",
        "        loss = attention_head.train(input_sequences[i], target_sequences[i], learning_rate=0.01)\n",
        "        total_loss += loss\n",
        "\n",
        "        attention_head.print_embeddings(epoch + 1, input_sequences[i], target_sequences[i])\n",
        "\n",
        "        output = attention_head.forward(input_sequences[i])  # (B, T, C)\n",
        "        predicted_embedding = output[0, 0]  # вектор (C,)\n",
        "\n",
        "        distances = np.linalg.norm(attention_head.embeddings - predicted_embedding, axis=1)\n",
        "        predicted_idx = np.argmin(distances)\n",
        "        predicted_word = index_to_word[predicted_idx]\n",
        "\n",
        "        real_word_idx = target_sequences[i][0][0].item()\n",
        "        real_word = index_to_word[real_word_idx]\n",
        "\n",
        "        print(f\"Предсказанное слово: {predicted_word}, Реальное слово: {real_word}\")\n",
        "\n",
        "    print(f\"Epoch {epoch + 1}/{epochs}, Average Loss: {total_loss / len(input_sequences)}\")"
      ],
      "metadata": {
        "id": "yPTLOsDnBsmn",
        "outputId": "a4ee6ab2-c519-4714-b6d1-6a5328a48cf1",
        "colab": {
          "base_uri": "https://localhost:8080/"
        }
      },
      "execution_count": 98,
      "outputs": [
        {
          "output_type": "stream",
          "name": "stdout",
          "text": [
            "Epoch 1 - Input[0][:5]: [ 1.66074572  0.4133736  -0.33491507 -0.7947416   0.10687018]\n",
            "Epoch 1 - Target[0][:5]: [38]\n",
            "Предсказанное слово: по, Реальное слово: взволнованно\n",
            "Epoch 1 - Input[0][:5]: [-0.22496576  1.67604955 -1.20343388 -0.47065288 -1.41418608]\n",
            "Epoch 1 - Target[0][:5]: [21]\n",
            "Предсказанное слово: расстаться,, Реальное слово: вам\n",
            "Epoch 1/10, Average Loss: 15.341797185155418\n",
            "Epoch 2 - Input[0][:5]: [ 1.66074572  0.4133736  -0.33491507 -0.7947416   0.10687018]\n",
            "Epoch 2 - Target[0][:5]: [38]\n",
            "Предсказанное слово: дело, Реальное слово: взволнованно\n",
            "Epoch 2 - Input[0][:5]: [-0.22496576  1.67604955 -1.20343388 -0.47065288 -1.41418608]\n",
            "Epoch 2 - Target[0][:5]: [21]\n",
            "Предсказанное слово: расстаться,, Реальное слово: вам\n",
            "Epoch 2/10, Average Loss: 16.49956671150332\n",
            "Epoch 3 - Input[0][:5]: [ 1.66074572  0.4133736  -0.33491507 -0.7947416   0.10687018]\n",
            "Epoch 3 - Target[0][:5]: [38]\n",
            "Предсказанное слово: по, Реальное слово: взволнованно\n",
            "Epoch 3 - Input[0][:5]: [-0.22496576  1.67604955 -1.20343388 -0.47065288 -1.41418608]\n",
            "Epoch 3 - Target[0][:5]: [21]\n",
            "Предсказанное слово: расстаться,, Реальное слово: вам\n",
            "Epoch 3/10, Average Loss: 16.003115208827847\n",
            "Epoch 4 - Input[0][:5]: [ 1.66074572  0.4133736  -0.33491507 -0.7947416   0.10687018]\n",
            "Epoch 4 - Target[0][:5]: [38]\n",
            "Предсказанное слово: дело, Реальное слово: взволнованно\n",
            "Epoch 4 - Input[0][:5]: [-0.22496576  1.67604955 -1.20343388 -0.47065288 -1.41418608]\n",
            "Epoch 4 - Target[0][:5]: [21]\n",
            "Предсказанное слово: расстаться,, Реальное слово: вам\n",
            "Epoch 4/10, Average Loss: 13.843817741445367\n",
            "Epoch 5 - Input[0][:5]: [ 1.66074572  0.4133736  -0.33491507 -0.7947416   0.10687018]\n",
            "Epoch 5 - Target[0][:5]: [38]\n",
            "Предсказанное слово: дело, Реальное слово: взволнованно\n",
            "Epoch 5 - Input[0][:5]: [-0.22496576  1.67604955 -1.20343388 -0.47065288 -1.41418608]\n",
            "Epoch 5 - Target[0][:5]: [21]\n",
            "Предсказанное слово: расстаться,, Реальное слово: вам\n",
            "Epoch 5/10, Average Loss: 16.304624507301526\n",
            "Epoch 6 - Input[0][:5]: [ 1.66074572  0.4133736  -0.33491507 -0.7947416   0.10687018]\n",
            "Epoch 6 - Target[0][:5]: [38]\n",
            "Предсказанное слово: дело, Реальное слово: взволнованно\n",
            "Epoch 6 - Input[0][:5]: [-0.22496576  1.67604955 -1.20343388 -0.47065288 -1.41418608]\n",
            "Epoch 6 - Target[0][:5]: [21]\n",
            "Предсказанное слово: расстаться,, Реальное слово: вам\n",
            "Epoch 6/10, Average Loss: 16.922656122993992\n",
            "Epoch 7 - Input[0][:5]: [ 1.66074572  0.4133736  -0.33491507 -0.7947416   0.10687018]\n",
            "Epoch 7 - Target[0][:5]: [38]\n",
            "Предсказанное слово: дело, Реальное слово: взволнованно\n",
            "Epoch 7 - Input[0][:5]: [-0.22496576  1.67604955 -1.20343388 -0.47065288 -1.41418608]\n",
            "Epoch 7 - Target[0][:5]: [21]\n",
            "Предсказанное слово: по, Реальное слово: вам\n",
            "Epoch 7/10, Average Loss: 12.58589194096555\n",
            "Epoch 8 - Input[0][:5]: [ 1.66074572  0.4133736  -0.33491507 -0.7947416   0.10687018]\n",
            "Epoch 8 - Target[0][:5]: [38]\n",
            "Предсказанное слово: дело, Реальное слово: взволнованно\n",
            "Epoch 8 - Input[0][:5]: [-0.22496576  1.67604955 -1.20343388 -0.47065288 -1.41418608]\n",
            "Epoch 8 - Target[0][:5]: [21]\n",
            "Предсказанное слово: расстаться,, Реальное слово: вам\n",
            "Epoch 8/10, Average Loss: 16.64392662515215\n",
            "Epoch 9 - Input[0][:5]: [ 1.66074572  0.4133736  -0.33491507 -0.7947416   0.10687018]\n",
            "Epoch 9 - Target[0][:5]: [38]\n",
            "Предсказанное слово: дело, Реальное слово: взволнованно\n",
            "Epoch 9 - Input[0][:5]: [-0.22496576  1.67604955 -1.20343388 -0.47065288 -1.41418608]\n",
            "Epoch 9 - Target[0][:5]: [21]\n",
            "Предсказанное слово: расстаться,, Реальное слово: вам\n",
            "Epoch 9/10, Average Loss: 15.32936184782324\n",
            "Epoch 10 - Input[0][:5]: [ 1.66074572  0.4133736  -0.33491507 -0.7947416   0.10687018]\n",
            "Epoch 10 - Target[0][:5]: [38]\n",
            "Предсказанное слово: дело, Реальное слово: взволнованно\n",
            "Epoch 10 - Input[0][:5]: [-0.22496576  1.67604955 -1.20343388 -0.47065288 -1.41418608]\n",
            "Epoch 10 - Target[0][:5]: [21]\n",
            "Предсказанное слово: расстаться,, Реальное слово: вам\n",
            "Epoch 10/10, Average Loss: 16.40922974619359\n"
          ]
        }
      ]
    }
  ]
}
