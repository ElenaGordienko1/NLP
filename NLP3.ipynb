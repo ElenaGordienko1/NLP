{
  "nbformat": 4,
  "nbformat_minor": 0,
  "metadata": {
    "colab": {
      "provenance": [],
      "authorship_tag": "ABX9TyPenv/sNx4p+dgWnINrztu7",
      "include_colab_link": true
    },
    "kernelspec": {
      "name": "python3",
      "display_name": "Python 3"
    },
    "language_info": {
      "name": "python"
    }
  },
  "cells": [
    {
      "cell_type": "markdown",
      "metadata": {
        "id": "view-in-github",
        "colab_type": "text"
      },
      "source": [
        "<a href=\"https://colab.research.google.com/github/ElenaGordienko1/NLP/blob/main/NLP3.ipynb\" target=\"_parent\"><img src=\"https://colab.research.google.com/assets/colab-badge.svg\" alt=\"Open In Colab\"/></a>"
      ]
    },
    {
      "cell_type": "markdown",
      "source": [
        "#Выпонение лабораторной работы 3"
      ],
      "metadata": {
        "id": "ifHrPiEfwxDR"
      }
    },
    {
      "cell_type": "markdown",
      "source": [
        "Импорт библиотек ⭐"
      ],
      "metadata": {
        "id": "MgF8kFLpw-Zd"
      }
    },
    {
      "cell_type": "code",
      "execution_count": 9,
      "metadata": {
        "id": "E-4r64E0n8mz"
      },
      "outputs": [],
      "source": [
        "import numpy as np\n",
        "import pandas as pd"
      ]
    },
    {
      "cell_type": "markdown",
      "source": [
        "### Функция линейной регрессии"
      ],
      "metadata": {
        "id": "p69EPogrfs5E"
      }
    },
    {
      "cell_type": "code",
      "source": [
        "def linear_regression(X: np.ndarray) -> float:\n",
        "\n",
        "    weight = np.random.randn()\n",
        "    bias = np.random.randn()\n",
        "\n",
        "    return float(X * weight + bias)"
      ],
      "metadata": {
        "id": "Or2Awck3pBMQ"
      },
      "execution_count": 26,
      "outputs": []
    },
    {
      "cell_type": "markdown",
      "source": [
        "### Функция активации: сигмоида\n",
        "\n",
        "\n",
        "\n"
      ],
      "metadata": {
        "id": "xLV9X_HFxakf"
      }
    },
    {
      "cell_type": "code",
      "source": [
        "def activation_func(x: float) -> float:\n",
        "\n",
        "    return 1 / (1 + np.exp(-x))"
      ],
      "metadata": {
        "id": "CpgjmuuJoR0h"
      },
      "execution_count": 27,
      "outputs": []
    },
    {
      "cell_type": "markdown",
      "source": [
        "### Нейрон\n",
        "\n"
      ],
      "metadata": {
        "id": "99LSUbXXyiTt"
      }
    },
    {
      "cell_type": "code",
      "source": [
        "def neuron(x: np.ndarray):\n",
        "\n",
        "    temp_result = linear_regression(x)\n",
        "    result = activation_func(temp_result)\n",
        "    return result"
      ],
      "metadata": {
        "id": "8gbx1S1zobpP"
      },
      "execution_count": 28,
      "outputs": []
    },
    {
      "cell_type": "markdown",
      "source": [
        "\n",
        "### Применение на датасете"
      ],
      "metadata": {
        "id": "kYJ1Nj17y4It"
      }
    },
    {
      "cell_type": "code",
      "source": [
        "df = pd.read_csv(\"/content/Mall_Customers.csv\")\n",
        "\n",
        "X = df['Annual Income (k$)'].values\n",
        "Y = df['Spending Score (1-100)'].values\n",
        "\n",
        "x_sample = X[0]\n",
        "\n",
        "output = neuron(x_sample)\n",
        "print(f\"Входное значение X: {x_sample}, Выход нейрона: {output}\")"
      ],
      "metadata": {
        "id": "Vyxmn9fSoemS",
        "colab": {
          "base_uri": "https://localhost:8080/"
        },
        "outputId": "d68f4ce2-e5bf-4554-9213-d4ccefef4dab"
      },
      "execution_count": 36,
      "outputs": [
        {
          "output_type": "stream",
          "name": "stdout",
          "text": [
            "Входное значение X: 15, Выход нейрона: 0.7084395994597699\n"
          ]
        }
      ]
    }
  ]
}