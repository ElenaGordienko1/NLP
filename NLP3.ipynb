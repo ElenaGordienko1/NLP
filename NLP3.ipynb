{
  "nbformat": 4,
  "nbformat_minor": 0,
  "metadata": {
    "colab": {
      "provenance": [],
      "authorship_tag": "ABX9TyONJFVTzzFiJmx9fgXXRe/3",
      "include_colab_link": true
    },
    "kernelspec": {
      "name": "python3",
      "display_name": "Python 3"
    },
    "language_info": {
      "name": "python"
    }
  },
  "cells": [
    {
      "cell_type": "markdown",
      "metadata": {
        "id": "view-in-github",
        "colab_type": "text"
      },
      "source": [
        "<a href=\"https://colab.research.google.com/github/ElenaGordienko1/NLP/blob/main/NLP3.ipynb\" target=\"_parent\"><img src=\"https://colab.research.google.com/assets/colab-badge.svg\" alt=\"Open In Colab\"/></a>"
      ]
    },
    {
      "cell_type": "markdown",
      "source": [
        "#Выпонение лабораторной работы 3"
      ],
      "metadata": {
        "id": "ifHrPiEfwxDR"
      }
    },
    {
      "cell_type": "markdown",
      "source": [
        "## 1 часть"
      ],
      "metadata": {
        "id": "qH6IXrTRxYCD"
      }
    },
    {
      "cell_type": "markdown",
      "source": [
        "Импорт библиотек ⭐"
      ],
      "metadata": {
        "id": "MgF8kFLpw-Zd"
      }
    },
    {
      "cell_type": "code",
      "execution_count": 1,
      "metadata": {
        "id": "E-4r64E0n8mz"
      },
      "outputs": [],
      "source": [
        "import numpy as np\n",
        "import pandas as pd"
      ]
    },
    {
      "cell_type": "markdown",
      "source": [
        "### Функция линейной регрессии"
      ],
      "metadata": {
        "id": "p69EPogrfs5E"
      }
    },
    {
      "cell_type": "code",
      "source": [
        "def linear_regression(X: np.ndarray) -> float:\n",
        "\n",
        "    weight = np.random.randn()\n",
        "    bias = np.random.randn()\n",
        "\n",
        "    return float(X * weight + bias)"
      ],
      "metadata": {
        "id": "Or2Awck3pBMQ"
      },
      "execution_count": 2,
      "outputs": []
    },
    {
      "cell_type": "markdown",
      "source": [
        "### Функция активации: сигмоида\n",
        "\n",
        "\n",
        "\n"
      ],
      "metadata": {
        "id": "xLV9X_HFxakf"
      }
    },
    {
      "cell_type": "code",
      "source": [
        "def activation_func(x: float) -> float:\n",
        "\n",
        "    return 1 / (1 + np.exp(-x))"
      ],
      "metadata": {
        "id": "CpgjmuuJoR0h"
      },
      "execution_count": 3,
      "outputs": []
    },
    {
      "cell_type": "markdown",
      "source": [
        "### Нейрон\n",
        "\n"
      ],
      "metadata": {
        "id": "99LSUbXXyiTt"
      }
    },
    {
      "cell_type": "code",
      "source": [
        "def neuron(x: np.ndarray):\n",
        "\n",
        "    temp_result = linear_regression(x)\n",
        "    result = activation_func(temp_result)\n",
        "    return result"
      ],
      "metadata": {
        "id": "8gbx1S1zobpP"
      },
      "execution_count": 4,
      "outputs": []
    },
    {
      "cell_type": "markdown",
      "source": [
        "\n",
        "### Применение на датасете"
      ],
      "metadata": {
        "id": "kYJ1Nj17y4It"
      }
    },
    {
      "cell_type": "code",
      "source": [
        "df = pd.read_csv(\"/content/Mall_Customers.csv\")\n",
        "\n",
        "X = df['Annual Income (k$)'].values\n",
        "Y = df['Spending Score (1-100)'].values\n",
        "\n",
        "x_sample = X[0]\n",
        "\n",
        "output = neuron(x_sample)\n",
        "print(f\"Входное значение X: {x_sample}, Выход нейрона: {output}\")"
      ],
      "metadata": {
        "id": "Vyxmn9fSoemS",
        "colab": {
          "base_uri": "https://localhost:8080/"
        },
        "outputId": "24595ec0-7222-4edc-a30f-a4eff3748ac3"
      },
      "execution_count": 6,
      "outputs": [
        {
          "output_type": "stream",
          "name": "stdout",
          "text": [
            "Входное значение X: 15, Выход нейрона: 0.5115798523876275\n"
          ]
        }
      ]
    },
    {
      "cell_type": "markdown",
      "source": [
        "## 2 часть"
      ],
      "metadata": {
        "id": "5gb-brH3xhCp"
      }
    },
    {
      "cell_type": "markdown",
      "source": [
        "### Импорт, активация, нормализация"
      ],
      "metadata": {
        "id": "8abVnulL1c6a"
      }
    },
    {
      "cell_type": "code",
      "source": [
        "from sklearn.model_selection import train_test_split\n",
        "from sklearn.metrics import accuracy_score, classification_report\n",
        "import numpy as np\n",
        "import pandas as pd\n",
        "\n",
        "def activation_func(x):\n",
        "    return 1 / (1 + np.exp(-x))\n",
        "\n",
        "def activation_derivative(x):\n",
        "    return x * (1 - x)\n",
        "\n",
        "def normalize(data):\n",
        "    return (data - np.min(data)) / (np.max(data) - np.min(data))\n"
      ],
      "metadata": {
        "id": "lj44W7j51yLc"
      },
      "execution_count": 24,
      "outputs": []
    },
    {
      "cell_type": "markdown",
      "source": [
        "### Класс с возможностью задать количество нейронов слоя и произвести обучение"
      ],
      "metadata": {
        "id": "LSzgvY9T2IBw"
      }
    },
    {
      "cell_type": "code",
      "source": [
        "class NeuralNetwork:\n",
        "    def __init__(self, input_size, hidden1_size, hidden2_size, output_size, learning_rate=0.01):\n",
        "        np.random.seed(42)\n",
        "        self.lr = learning_rate\n",
        "\n",
        "        self.W1 = np.random.randn(input_size, hidden1_size) * 0.1\n",
        "        self.b1 = np.zeros((1, hidden1_size))\n",
        "        self.W2 = np.random.randn(hidden1_size, hidden2_size) * 0.1\n",
        "        self.b2 = np.zeros((1, hidden2_size))\n",
        "        self.W3 = np.random.randn(hidden2_size, output_size) * 0.1\n",
        "        self.b3 = np.zeros((1, output_size))\n",
        "\n",
        "    def forward(self, X):\n",
        "        self.z1 = np.dot(X, self.W1) + self.b1\n",
        "        self.a1 = activation_func(self.z1)\n",
        "        self.z2 = np.dot(self.a1, self.W2) + self.b2\n",
        "        self.a2 = activation_func(self.z2)\n",
        "        self.z3 = np.dot(self.a2, self.W3) + self.b3\n",
        "        self.a3 = activation_func(self.z3)\n",
        "        return self.a3\n",
        "\n",
        "    def backward(self, X, y):\n",
        "        m = X.shape[0]\n",
        "\n",
        "        dZ3 = self.a3 - y\n",
        "        dW3 = np.dot(self.a2.T, dZ3) / m\n",
        "        db3 = np.sum(dZ3, axis=0, keepdims=True) / m\n",
        "\n",
        "        dZ2 = np.dot(dZ3, self.W3.T) * activation_derivative(self.a2)\n",
        "        dW2 = np.dot(self.a1.T, dZ2) / m\n",
        "        db2 = np.sum(dZ2, axis=0, keepdims=True) / m\n",
        "\n",
        "        dZ1 = np.dot(dZ2, self.W2.T) * activation_derivative(self.a1)\n",
        "        dW1 = np.dot(X.T, dZ1) / m\n",
        "        db1 = np.sum(dZ1, axis=0, keepdims=True) / m\n",
        "\n",
        "        self.W3 -= self.lr * dW3\n",
        "        self.b3 -= self.lr * db3\n",
        "        self.W2 -= self.lr * dW2\n",
        "        self.b2 -= self.lr * db2\n",
        "        self.W1 -= self.lr * dW1\n",
        "        self.b1 -= self.lr * db1\n",
        "\n",
        "    def train(self, X, y, epochs):\n",
        "        for epoch in range(epochs):\n",
        "            self.forward(X)\n",
        "            self.backward(X, y)\n",
        "            if epoch % 100 == 0:\n",
        "                loss = np.mean((y - self.a3) ** 2)\n",
        "                print(f'Epoch {epoch}, Loss: {loss:.4f}')\n"
      ],
      "metadata": {
        "id": "sLC4K1fBxlNz"
      },
      "execution_count": 25,
      "outputs": []
    },
    {
      "cell_type": "markdown",
      "source": [
        "### Проверка\n",
        "\n"
      ],
      "metadata": {
        "id": "MxN3KRAG3bHH"
      }
    },
    {
      "cell_type": "code",
      "source": [
        "df = pd.read_csv(\"/content/Mall_Customers.csv\")\n",
        "\n",
        "X_raw = df['Annual Income (k$)'].values.reshape(-1, 1)\n",
        "Y_raw = df['Spending Score (1-100)'].values.reshape(-1, 1)\n",
        "\n",
        "X_normalized = normalize(X_raw)\n",
        "Y_normalized = normalize(Y_raw)\n",
        "\n",
        "input_size = 1\n",
        "hidden1_size = 5\n",
        "hidden2_size = 5\n",
        "output_size = 1\n",
        "learning_rate = 0.01\n",
        "epochs = 1000\n",
        "\n",
        "nn = NeuralNetwork(input_size, hidden1_size, hidden2_size, output_size, learning_rate)\n",
        "nn.train(X_normalized, Y_normalized, epochs)\n",
        "\n",
        "predictions = nn.forward(X_normalized)\n",
        "\n",
        "print(\"Настоящее значение:\", Y_raw.flatten()[:5])\n",
        "print(\"Предсказание:\", (predictions * 100).flatten()[:5])"
      ],
      "metadata": {
        "colab": {
          "base_uri": "https://localhost:8080/"
        },
        "id": "xuMRzmXA3fiL",
        "outputId": "b4171a71-8781-4f69-bc83-2ea0df08b2e9"
      },
      "execution_count": 26,
      "outputs": [
        {
          "output_type": "stream",
          "name": "stdout",
          "text": [
            "Epoch 0, Loss: 0.0692\n",
            "Epoch 100, Loss: 0.0691\n",
            "Epoch 200, Loss: 0.0691\n",
            "Epoch 300, Loss: 0.0691\n",
            "Epoch 400, Loss: 0.0691\n",
            "Epoch 500, Loss: 0.0691\n",
            "Epoch 600, Loss: 0.0691\n",
            "Epoch 700, Loss: 0.0691\n",
            "Epoch 800, Loss: 0.0691\n",
            "Epoch 900, Loss: 0.0691\n",
            "Настоящее значение: [39 81  6 77 40]\n",
            "Предсказание: [50.20817834 50.20817834 50.20819002 50.20819002 50.2082017 ]\n"
          ]
        }
      ]
    },
    {
      "cell_type": "markdown",
      "source": [
        "### Применение"
      ],
      "metadata": {
        "id": "AjK2sZl55p3z"
      }
    },
    {
      "cell_type": "code",
      "source": [
        "def train_and_evaluate(X, Y):\n",
        "    X_train, X_test, Y_train, Y_test = train_test_split(\n",
        "        X, Y, test_size=0.2, random_state=42\n",
        "    )\n",
        "\n",
        "    input_size = X_train.shape[1]\n",
        "    hidden1_size = 5\n",
        "    hidden2_size = 5\n",
        "    output_size = 1\n",
        "    learning_rate = 0.01\n",
        "    epochs = 1000\n",
        "\n",
        "    model = NeuralNetwork(input_size, hidden1_size, hidden2_size, output_size, learning_rate)\n",
        "    model.train(X_train, Y_train, epochs)\n",
        "\n",
        "    Y_train_pred = model.forward(X_train)\n",
        "    Y_train_pred_binary = (Y_train_pred > 0.5).astype(int)\n",
        "    Y_train_binary = (Y_train > 0.5).astype(int)\n",
        "    train_accuracy = accuracy_score(Y_train_binary, Y_train_pred_binary)\n",
        "\n",
        "    Y_test_pred = model.forward(X_test)\n",
        "    Y_test_pred_binary = (Y_test_pred > 0.5).astype(int)\n",
        "    Y_test_binary = (Y_test > 0.5).astype(int)\n",
        "    test_accuracy = accuracy_score(Y_test_binary, Y_test_pred_binary)\n",
        "\n",
        "    print(f\"Точность на обучающей выборке: {train_accuracy:.4f}\")\n",
        "    print(f\"Точность на тестовой выборке: {test_accuracy:.4f}\")\n",
        "    print(\"\\n Отчет классификации на тестовой выборке:\")\n",
        "    print(classification_report(Y_test_binary, Y_test_pred_binary))\n",
        "\n",
        "    return model\n",
        "\n",
        "model = train_and_evaluate(X_normalized, Y_normalized)\n"
      ],
      "metadata": {
        "colab": {
          "base_uri": "https://localhost:8080/"
        },
        "id": "Vl9QPBRh5olQ",
        "outputId": "d4dce943-5831-4ae9-e9ba-1139775363be"
      },
      "execution_count": 27,
      "outputs": [
        {
          "output_type": "stream",
          "name": "stdout",
          "text": [
            "Epoch 0, Loss: 0.0723\n",
            "Epoch 100, Loss: 0.0722\n",
            "Epoch 200, Loss: 0.0722\n",
            "Epoch 300, Loss: 0.0722\n",
            "Epoch 400, Loss: 0.0722\n",
            "Epoch 500, Loss: 0.0722\n",
            "Epoch 600, Loss: 0.0722\n",
            "Epoch 700, Loss: 0.0722\n",
            "Epoch 800, Loss: 0.0722\n",
            "Epoch 900, Loss: 0.0722\n",
            "Точность на обучающей выборке: 0.5000\n",
            "Точность на тестовой выборке: 0.4250\n",
            "\n",
            " Отчет классификации на тестовой выборке:\n",
            "              precision    recall  f1-score   support\n",
            "\n",
            "           0       0.00      0.00      0.00        23\n",
            "           1       0.42      1.00      0.60        17\n",
            "\n",
            "    accuracy                           0.42        40\n",
            "   macro avg       0.21      0.50      0.30        40\n",
            "weighted avg       0.18      0.42      0.25        40\n",
            "\n"
          ]
        },
        {
          "output_type": "stream",
          "name": "stderr",
          "text": [
            "/usr/local/lib/python3.11/dist-packages/sklearn/metrics/_classification.py:1565: UndefinedMetricWarning: Precision is ill-defined and being set to 0.0 in labels with no predicted samples. Use `zero_division` parameter to control this behavior.\n",
            "  _warn_prf(average, modifier, f\"{metric.capitalize()} is\", len(result))\n",
            "/usr/local/lib/python3.11/dist-packages/sklearn/metrics/_classification.py:1565: UndefinedMetricWarning: Precision is ill-defined and being set to 0.0 in labels with no predicted samples. Use `zero_division` parameter to control this behavior.\n",
            "  _warn_prf(average, modifier, f\"{metric.capitalize()} is\", len(result))\n",
            "/usr/local/lib/python3.11/dist-packages/sklearn/metrics/_classification.py:1565: UndefinedMetricWarning: Precision is ill-defined and being set to 0.0 in labels with no predicted samples. Use `zero_division` parameter to control this behavior.\n",
            "  _warn_prf(average, modifier, f\"{metric.capitalize()} is\", len(result))\n"
          ]
        }
      ]
    }
  ]
}