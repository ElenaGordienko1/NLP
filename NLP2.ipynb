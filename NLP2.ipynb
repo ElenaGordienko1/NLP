{
  "nbformat": 4,
  "nbformat_minor": 0,
  "metadata": {
    "colab": {
      "provenance": [],
      "authorship_tag": "ABX9TyOUK0nV4UHPfWfErUxvWpdN",
      "include_colab_link": true
    },
    "kernelspec": {
      "name": "python3",
      "display_name": "Python 3"
    },
    "language_info": {
      "name": "python"
    }
  },
  "cells": [
    {
      "cell_type": "markdown",
      "metadata": {
        "id": "view-in-github",
        "colab_type": "text"
      },
      "source": [
        "<a href=\"https://colab.research.google.com/github/ElenaGordienko1/NLP/blob/main/NLP2.ipynb\" target=\"_parent\"><img src=\"https://colab.research.google.com/assets/colab-badge.svg\" alt=\"Open In Colab\"/></a>"
      ]
    },
    {
      "cell_type": "markdown",
      "source": [
        "#Выпонение лабораторной работы 2"
      ],
      "metadata": {
        "id": "ifHrPiEfwxDR"
      }
    },
    {
      "cell_type": "markdown",
      "source": [
        "Подготовка, импорт библиотек ⭐"
      ],
      "metadata": {
        "id": "MgF8kFLpw-Zd"
      }
    },
    {
      "cell_type": "code",
      "source": [
        "!pip install natasha\n"
      ],
      "metadata": {
        "colab": {
          "base_uri": "https://localhost:8080/"
        },
        "id": "c5mY2bOotS_v",
        "outputId": "6246b270-e4bd-4286-fd67-8a6c6e9810f3"
      },
      "execution_count": 73,
      "outputs": [
        {
          "output_type": "stream",
          "name": "stdout",
          "text": [
            "Requirement already satisfied: natasha in /usr/local/lib/python3.11/dist-packages (1.6.0)\n",
            "Requirement already satisfied: pymorphy2 in /usr/local/lib/python3.11/dist-packages (from natasha) (0.9.1)\n",
            "Requirement already satisfied: razdel>=0.5.0 in /usr/local/lib/python3.11/dist-packages (from natasha) (0.5.0)\n",
            "Requirement already satisfied: navec>=0.9.0 in /usr/local/lib/python3.11/dist-packages (from natasha) (0.10.0)\n",
            "Requirement already satisfied: slovnet>=0.6.0 in /usr/local/lib/python3.11/dist-packages (from natasha) (0.6.0)\n",
            "Requirement already satisfied: yargy>=0.16.0 in /usr/local/lib/python3.11/dist-packages (from natasha) (0.16.0)\n",
            "Requirement already satisfied: ipymarkup>=0.8.0 in /usr/local/lib/python3.11/dist-packages (from natasha) (0.9.0)\n",
            "Requirement already satisfied: intervaltree>=3 in /usr/local/lib/python3.11/dist-packages (from ipymarkup>=0.8.0->natasha) (3.1.0)\n",
            "Requirement already satisfied: numpy in /usr/local/lib/python3.11/dist-packages (from navec>=0.9.0->natasha) (1.26.4)\n",
            "Requirement already satisfied: dawg-python>=0.7.1 in /usr/local/lib/python3.11/dist-packages (from pymorphy2->natasha) (0.7.2)\n",
            "Requirement already satisfied: pymorphy2-dicts-ru<3.0,>=2.4 in /usr/local/lib/python3.11/dist-packages (from pymorphy2->natasha) (2.4.417127.4579844)\n",
            "Requirement already satisfied: docopt>=0.6 in /usr/local/lib/python3.11/dist-packages (from pymorphy2->natasha) (0.6.2)\n",
            "Requirement already satisfied: sortedcontainers<3.0,>=2.0 in /usr/local/lib/python3.11/dist-packages (from intervaltree>=3->ipymarkup>=0.8.0->natasha) (2.4.0)\n"
          ]
        }
      ]
    },
    {
      "cell_type": "code",
      "execution_count": 74,
      "metadata": {
        "id": "E-4r64E0n8mz"
      },
      "outputs": [],
      "source": [
        "import re\n",
        "from collections import Counter\n",
        "import math\n",
        "from natasha import MorphVocab, Segmenter, NewsEmbedding, NewsMorphTagger, Doc"
      ]
    },
    {
      "cell_type": "code",
      "source": [
        "segmenter = Segmenter()\n",
        "emb = NewsEmbedding()\n",
        "morph_tagger = NewsMorphTagger(emb)\n",
        "morph_vocab = MorphVocab()\n",
        "\n",
        "STOP_WORDS = {\"и\", \"в\", \"во\", \"не\", \"что\", \"он\", \"на\", \"я\", \"с\", \"со\", \"как\", \"а\", \"то\", \"все\", \"она\"}"
      ],
      "metadata": {
        "id": "Or2Awck3pBMQ"
      },
      "execution_count": 75,
      "outputs": []
    },
    {
      "cell_type": "markdown",
      "source": [
        "### Функция лемматизации, удаления стоп-слов и токенизации"
      ],
      "metadata": {
        "id": "xLV9X_HFxakf"
      }
    },
    {
      "cell_type": "code",
      "source": [
        "def preprocess_text(text: str) -> list[str]:\n",
        "\n",
        "    text = text.lower()\n",
        "    text = re.sub(r'[^\\w\\s]', '', text)\n",
        "\n",
        "    doc = Doc(text)\n",
        "    doc.segment(segmenter)\n",
        "    doc.tag_morph(morph_tagger)\n",
        "\n",
        "    lemmatized_words = []\n",
        "\n",
        "    for token in doc.tokens:\n",
        "        token.lemmatize(morph_vocab)\n",
        "        lemma = token.lemma\n",
        "        if lemma is None:\n",
        "            continue\n",
        "        if lemma not in STOP_WORDS:\n",
        "            lemmatized_words.append(lemma)\n",
        "\n",
        "    return lemmatized_words"
      ],
      "metadata": {
        "id": "CpgjmuuJoR0h"
      },
      "execution_count": 76,
      "outputs": []
    },
    {
      "cell_type": "markdown",
      "source": [
        "### Функция словаря всех уникальных слов"
      ],
      "metadata": {
        "id": "99LSUbXXyiTt"
      }
    },
    {
      "cell_type": "code",
      "source": [
        "def make_dict(texts: list[list[str]]) -> set[str]:\n",
        "\n",
        "    all_words = set()\n",
        "    for text in texts:\n",
        "        all_words.update(text)\n",
        "    return all_words\n"
      ],
      "metadata": {
        "id": "8gbx1S1zobpP"
      },
      "execution_count": 77,
      "outputs": []
    },
    {
      "cell_type": "markdown",
      "source": [
        "### Bag of Words"
      ],
      "metadata": {
        "id": "kYJ1Nj17y4It"
      }
    },
    {
      "cell_type": "code",
      "source": [
        "def make_bow(texts: list[list[str]]) -> dict[str, int]:\n",
        "\n",
        "    bow = Counter()\n",
        "    for text in texts:\n",
        "        bow.update(text)\n",
        "    return dict(bow)\n"
      ],
      "metadata": {
        "id": "Vyxmn9fSoemS"
      },
      "execution_count": 78,
      "outputs": []
    },
    {
      "cell_type": "markdown",
      "source": [
        "### TF-IDF"
      ],
      "metadata": {
        "id": "TdiGeid82ieS"
      }
    },
    {
      "cell_type": "code",
      "source": [
        "def compute_tf(text: list[str]) -> dict[str, float]:\n",
        "\n",
        "    term_count = Counter(text)\n",
        "    total_terms = len(text)\n",
        "    return {word: count / total_terms for word, count in term_count.items()}"
      ],
      "metadata": {
        "id": "Ty6maIeeohz5"
      },
      "execution_count": 79,
      "outputs": []
    },
    {
      "cell_type": "code",
      "source": [
        "def compute_idf(texts: list[list[str]]) -> dict[str, float]:\n",
        "\n",
        "    num_docs = len(texts)\n",
        "    idf = {}\n",
        "    all_words = set(word for text in texts for word in text)\n",
        "\n",
        "    for word in all_words:\n",
        "        containing_docs = sum(1 for text in texts if word in text)\n",
        "        idf[word] = math.log(num_docs / (1 + containing_docs)) + 1\n",
        "\n",
        "    return idf"
      ],
      "metadata": {
        "id": "BDB5ZaEfolyq"
      },
      "execution_count": 80,
      "outputs": []
    },
    {
      "cell_type": "code",
      "source": [
        "def compute_tf_idf(texts: list[list[str]]) -> list[dict[str, float]]:\n",
        "\n",
        "    idf = compute_idf(texts)\n",
        "    tf_idf_values = []\n",
        "\n",
        "    for text in texts:\n",
        "        tf = compute_tf(text)\n",
        "        tf_idf = {word: tf[word] * idf[word] for word in text}\n",
        "        tf_idf_values.append(tf_idf)\n",
        "\n",
        "    return tf_idf_values"
      ],
      "metadata": {
        "id": "_QuIo5XBoo0O"
      },
      "execution_count": 81,
      "outputs": []
    },
    {
      "cell_type": "markdown",
      "source": [
        "### Вывод"
      ],
      "metadata": {
        "id": "OwT4WFVd2qHs"
      }
    },
    {
      "cell_type": "code",
      "source": [
        "texts = [\n",
        "    \"Церкви на Руси строили из дерева и камня. Купола покрывали золотом. Внутри были иконы, фрески, свечи. Монахи переписывали книги, обучали людей вере.\",\n",
        "    \"Храмы возводили с высокими сводами и узкими окнами. Колокола звонили к молитве. Фрески изображали библейские сцены. Иконостас отделял алтарь от прихожан. Верующие приносили свечи.\",\n",
        "    \"Церкви объединяли народ, учили морали. Священники крестили детей, венчали семьи. Богослужения проходили по праздникам. Монастыри хранили книги, лечили больных. Люди молились, искали покоя.\"\n",
        "]\n",
        "\n",
        "processed_texts = [preprocess_text(text) for text in texts]\n",
        "dictionary = make_dict(processed_texts)\n",
        "bow = make_bow(processed_texts)\n",
        "tf_idf = compute_tf_idf(processed_texts)\n",
        "\n",
        "print(\"Словарь всех уникальных слов:\", dictionary)\n",
        "print(\"Bag of Words:\", bow)\n",
        "print(\"TF-IDF:\", tf_idf)\n"
      ],
      "metadata": {
        "colab": {
          "base_uri": "https://localhost:8080/"
        },
        "id": "kVrgufE_oqWW",
        "outputId": "b46bc3b4-5fbc-4360-c080-0318fbce2756"
      },
      "execution_count": 82,
      "outputs": [
        {
          "output_type": "stream",
          "name": "stdout",
          "text": [
            "Словарь всех уникальных слов: {'проходить', 'богослужение', 'окно', 'строить', 'камень', 'сцена', 'приносить', 'больной', 'икона', 'искать', 'мораль', 'купол', 'народ', 'свод', 'венчали', 'звонить', 'семья', 'изображать', 'обучать', 'хранить', 'монах', 'церковь', 'высокий', 'монастырь', 'от', 'отделять', 'библейский', 'священник', 'по', 'из', 'алтарь', 'прихожанин', 'храм', 'русь', 'дерево', 'веровать', 'возводить', 'молиться', 'узкий', 'свеча', 'покой', 'объединять', 'ребенок', 'иконостас', 'молитва', 'колокол', 'книга', 'учить', 'переписывать', 'человек', 'внутри', 'вера', 'крестить', 'быть', 'праздник', 'лечить', 'к', 'золото', 'фреска', 'покрывать'}\n",
            "Bag of Words: {'церковь': 2, 'русь': 1, 'строить': 1, 'из': 1, 'дерево': 1, 'камень': 1, 'купол': 1, 'покрывать': 1, 'золото': 1, 'внутри': 1, 'быть': 1, 'икона': 1, 'фреска': 2, 'свеча': 2, 'монах': 1, 'переписывать': 1, 'книга': 2, 'обучать': 1, 'человек': 2, 'вера': 1, 'храм': 1, 'возводить': 1, 'высокий': 1, 'свод': 1, 'узкий': 1, 'окно': 1, 'колокол': 1, 'звонить': 1, 'к': 1, 'молитва': 1, 'изображать': 1, 'библейский': 1, 'сцена': 1, 'иконостас': 1, 'отделять': 1, 'алтарь': 1, 'от': 1, 'прихожанин': 1, 'веровать': 1, 'приносить': 1, 'объединять': 1, 'народ': 1, 'учить': 1, 'мораль': 1, 'священник': 1, 'крестить': 1, 'ребенок': 1, 'венчали': 1, 'семья': 1, 'богослужение': 1, 'проходить': 1, 'по': 1, 'праздник': 1, 'монастырь': 1, 'хранить': 1, 'лечить': 1, 'больной': 1, 'молиться': 1, 'искать': 1, 'покой': 1}\n",
            "TF-IDF: [{'церковь': 0.05, 'русь': 0.07027325540540823, 'строить': 0.07027325540540823, 'из': 0.07027325540540823, 'дерево': 0.07027325540540823, 'камень': 0.07027325540540823, 'купол': 0.07027325540540823, 'покрывать': 0.07027325540540823, 'золото': 0.07027325540540823, 'внутри': 0.07027325540540823, 'быть': 0.07027325540540823, 'икона': 0.07027325540540823, 'фреска': 0.05, 'свеча': 0.05, 'монах': 0.07027325540540823, 'переписывать': 0.07027325540540823, 'книга': 0.05, 'обучать': 0.07027325540540823, 'человек': 0.05, 'вера': 0.07027325540540823}, {'храм': 0.0638847776412802, 'возводить': 0.0638847776412802, 'высокий': 0.0638847776412802, 'свод': 0.0638847776412802, 'узкий': 0.0638847776412802, 'окно': 0.0638847776412802, 'колокол': 0.0638847776412802, 'звонить': 0.0638847776412802, 'к': 0.0638847776412802, 'молитва': 0.0638847776412802, 'фреска': 0.045454545454545456, 'изображать': 0.0638847776412802, 'библейский': 0.0638847776412802, 'сцена': 0.0638847776412802, 'иконостас': 0.0638847776412802, 'отделять': 0.0638847776412802, 'алтарь': 0.0638847776412802, 'от': 0.0638847776412802, 'прихожанин': 0.0638847776412802, 'веровать': 0.0638847776412802, 'приносить': 0.0638847776412802, 'свеча': 0.045454545454545456}, {'церковь': 0.043478260869565216, 'объединять': 0.06110717861339845, 'народ': 0.06110717861339845, 'учить': 0.06110717861339845, 'мораль': 0.06110717861339845, 'священник': 0.06110717861339845, 'крестить': 0.06110717861339845, 'ребенок': 0.06110717861339845, 'венчали': 0.06110717861339845, 'семья': 0.06110717861339845, 'богослужение': 0.06110717861339845, 'проходить': 0.06110717861339845, 'по': 0.06110717861339845, 'праздник': 0.06110717861339845, 'монастырь': 0.06110717861339845, 'хранить': 0.06110717861339845, 'книга': 0.043478260869565216, 'лечить': 0.06110717861339845, 'больной': 0.06110717861339845, 'человек': 0.043478260869565216, 'молиться': 0.06110717861339845, 'искать': 0.06110717861339845, 'покой': 0.06110717861339845}]\n"
          ]
        }
      ]
    }
  ]
}